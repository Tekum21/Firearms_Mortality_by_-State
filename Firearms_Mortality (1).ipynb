{
 "cells": [
  {
   "cell_type": "markdown",
   "metadata": {
    "colab_type": "text",
    "id": "MjUMh_j2lmb4"
   },
   "source": [
    "> This project seek to find Sates with most Firearms Mortality in the United States given the avialbe dataset.The data contains deaths recorded in **2005, 2014, 2015, 2016, 2017 & 2018**. The RATE is the number of deaths per 100,000 total population.\n",
    "  <a id=\"top_page\"><a/> "
   ]
  },
  {
   "cell_type": "markdown",
   "metadata": {
    "colab_type": "text",
    "id": "8uFBK9S8lYT1"
   },
   "source": [
    "## Data Source:https://www.cdc.gov/nchs/pressroom/sosmap/firearm_mortality/firearm.htm"
   ]
  },
  {
   "cell_type": "code",
   "execution_count": 166,
   "metadata": {
    "colab": {},
    "colab_type": "code",
    "id": "FCnrGbyiN_49"
   },
   "outputs": [],
   "source": [
    "# Importing Libraries.\n",
    "import plotly.express as px\n",
    "import math\n",
    "import pandas as pd\n",
    "import numpy as np\n",
    "import matplotlib.pyplot as plt"
   ]
  },
  {
   "cell_type": "code",
   "execution_count": 167,
   "metadata": {
    "colab": {
     "base_uri": "https://localhost:8080/",
     "height": 415
    },
    "colab_type": "code",
    "id": "lGWJS6RjNkWY",
    "outputId": "611c4194-a48b-443b-bd02-033daf14c098"
   },
   "outputs": [
    {
     "data": {
      "text/html": [
       "<div>\n",
       "<style scoped>\n",
       "    .dataframe tbody tr th:only-of-type {\n",
       "        vertical-align: middle;\n",
       "    }\n",
       "\n",
       "    .dataframe tbody tr th {\n",
       "        vertical-align: top;\n",
       "    }\n",
       "\n",
       "    .dataframe thead th {\n",
       "        text-align: right;\n",
       "    }\n",
       "</style>\n",
       "<table border=\"1\" class=\"dataframe\">\n",
       "  <thead>\n",
       "    <tr style=\"text-align: right;\">\n",
       "      <th></th>\n",
       "      <th>YEAR</th>\n",
       "      <th>STATE</th>\n",
       "      <th>RATE</th>\n",
       "      <th>DEATHS</th>\n",
       "      <th>URL</th>\n",
       "    </tr>\n",
       "  </thead>\n",
       "  <tbody>\n",
       "    <tr>\n",
       "      <td>0</td>\n",
       "      <td>2018.0</td>\n",
       "      <td>AL</td>\n",
       "      <td>21.8</td>\n",
       "      <td>1064.0</td>\n",
       "      <td>/nchs/pressroom/states/alabama/alabama.htm</td>\n",
       "    </tr>\n",
       "    <tr>\n",
       "      <td>1</td>\n",
       "      <td>2018.0</td>\n",
       "      <td>AK</td>\n",
       "      <td>21.0</td>\n",
       "      <td>155.0</td>\n",
       "      <td>/nchs/pressroom/states/alaska/alaska.htm</td>\n",
       "    </tr>\n",
       "    <tr>\n",
       "      <td>2</td>\n",
       "      <td>2018.0</td>\n",
       "      <td>AZ</td>\n",
       "      <td>15.3</td>\n",
       "      <td>1147.0</td>\n",
       "      <td>/nchs/pressroom/states/arizona/arizona.htm</td>\n",
       "    </tr>\n",
       "    <tr>\n",
       "      <td>3</td>\n",
       "      <td>2018.0</td>\n",
       "      <td>AR</td>\n",
       "      <td>18.9</td>\n",
       "      <td>573.0</td>\n",
       "      <td>/nchs/pressroom/states/arkansas/arkansas.htm</td>\n",
       "    </tr>\n",
       "    <tr>\n",
       "      <td>4</td>\n",
       "      <td>2018.0</td>\n",
       "      <td>CA</td>\n",
       "      <td>7.5</td>\n",
       "      <td>3040.0</td>\n",
       "      <td>/nchs/pressroom/states/california/california.htm</td>\n",
       "    </tr>\n",
       "    <tr>\n",
       "      <td>...</td>\n",
       "      <td>...</td>\n",
       "      <td>...</td>\n",
       "      <td>...</td>\n",
       "      <td>...</td>\n",
       "      <td>...</td>\n",
       "    </tr>\n",
       "    <tr>\n",
       "      <td>296</td>\n",
       "      <td>2005.0</td>\n",
       "      <td>WA</td>\n",
       "      <td>8.8</td>\n",
       "      <td>567.0</td>\n",
       "      <td>/nchs/pressroom/states/washington/washington.htm</td>\n",
       "    </tr>\n",
       "    <tr>\n",
       "      <td>297</td>\n",
       "      <td>2005.0</td>\n",
       "      <td>WV</td>\n",
       "      <td>13.8</td>\n",
       "      <td>261.0</td>\n",
       "      <td>/nchs/pressroom/states/westvirginia/westvirgin...</td>\n",
       "    </tr>\n",
       "    <tr>\n",
       "      <td>298</td>\n",
       "      <td>2005.0</td>\n",
       "      <td>WI</td>\n",
       "      <td>8.5</td>\n",
       "      <td>474.0</td>\n",
       "      <td>/nchs/pressroom/states/wisconsin/wisconsin.htm</td>\n",
       "    </tr>\n",
       "    <tr>\n",
       "      <td>299</td>\n",
       "      <td>2005.0</td>\n",
       "      <td>WY</td>\n",
       "      <td>13.4</td>\n",
       "      <td>71.0</td>\n",
       "      <td>/nchs/pressroom/states/wyoming/wyoming.htm</td>\n",
       "    </tr>\n",
       "    <tr>\n",
       "      <td>300</td>\n",
       "      <td>NaN</td>\n",
       "      <td>NaN</td>\n",
       "      <td>NaN</td>\n",
       "      <td>NaN</td>\n",
       "      <td>NaN</td>\n",
       "    </tr>\n",
       "  </tbody>\n",
       "</table>\n",
       "<p>301 rows × 5 columns</p>\n",
       "</div>"
      ],
      "text/plain": [
       "       YEAR STATE  RATE  DEATHS  \\\n",
       "0    2018.0    AL  21.8  1064.0   \n",
       "1    2018.0    AK  21.0   155.0   \n",
       "2    2018.0    AZ  15.3  1147.0   \n",
       "3    2018.0    AR  18.9   573.0   \n",
       "4    2018.0    CA   7.5  3040.0   \n",
       "..      ...   ...   ...     ...   \n",
       "296  2005.0    WA   8.8   567.0   \n",
       "297  2005.0    WV  13.8   261.0   \n",
       "298  2005.0    WI   8.5   474.0   \n",
       "299  2005.0    WY  13.4    71.0   \n",
       "300     NaN   NaN   NaN     NaN   \n",
       "\n",
       "                                                   URL  \n",
       "0           /nchs/pressroom/states/alabama/alabama.htm  \n",
       "1             /nchs/pressroom/states/alaska/alaska.htm  \n",
       "2           /nchs/pressroom/states/arizona/arizona.htm  \n",
       "3         /nchs/pressroom/states/arkansas/arkansas.htm  \n",
       "4     /nchs/pressroom/states/california/california.htm  \n",
       "..                                                 ...  \n",
       "296   /nchs/pressroom/states/washington/washington.htm  \n",
       "297  /nchs/pressroom/states/westvirginia/westvirgin...  \n",
       "298     /nchs/pressroom/states/wisconsin/wisconsin.htm  \n",
       "299         /nchs/pressroom/states/wyoming/wyoming.htm  \n",
       "300                                                NaN  \n",
       "\n",
       "[301 rows x 5 columns]"
      ]
     },
     "execution_count": 167,
     "metadata": {},
     "output_type": "execute_result"
    }
   ],
   "source": [
    "# Loading our data.\n",
    "Df=pd.read_csv(\"Firearm Mortality by State.csv\")\n",
    "Df"
   ]
  },
  {
   "cell_type": "code",
   "execution_count": 168,
   "metadata": {
    "colab": {
     "base_uri": "https://localhost:8080/",
     "height": 35
    },
    "colab_type": "code",
    "id": "Kyc9Q6lnPD3i",
    "outputId": "94c3de09-480f-4c9b-85d4-e61826702908"
   },
   "outputs": [
    {
     "data": {
      "text/plain": [
       "Index(['YEAR', 'STATE', 'RATE', 'DEATHS', 'URL'], dtype='object')"
      ]
     },
     "execution_count": 168,
     "metadata": {},
     "output_type": "execute_result"
    }
   ],
   "source": [
    "# Investigating the columns in our dataset\n",
    "Df.columns"
   ]
  },
  {
   "cell_type": "code",
   "execution_count": 169,
   "metadata": {
    "colab": {},
    "colab_type": "code",
    "id": "FvZjUW8aPH3O"
   },
   "outputs": [],
   "source": [
    "# Fitering nonuseful columns\n",
    "Df=Df.drop(columns=[\"URL\"])"
   ]
  },
  {
   "cell_type": "code",
   "execution_count": 170,
   "metadata": {
    "colab": {
     "base_uri": "https://localhost:8080/",
     "height": 104
    },
    "colab_type": "code",
    "id": "la_BiO-wP4vO",
    "outputId": "e15f62f1-02d4-40ee-acac-d6221acff4ad"
   },
   "outputs": [
    {
     "data": {
      "text/plain": [
       "YEAR      float64\n",
       "STATE      object\n",
       "RATE      float64\n",
       "DEATHS    float64\n",
       "dtype: object"
      ]
     },
     "execution_count": 170,
     "metadata": {},
     "output_type": "execute_result"
    }
   ],
   "source": [
    "Df.dtypes"
   ]
  },
  {
   "cell_type": "code",
   "execution_count": 171,
   "metadata": {
    "colab": {},
    "colab_type": "code",
    "id": "L4FHWeYCQGzH"
   },
   "outputs": [
    {
     "data": {
      "text/html": [
       "<div>\n",
       "<style scoped>\n",
       "    .dataframe tbody tr th:only-of-type {\n",
       "        vertical-align: middle;\n",
       "    }\n",
       "\n",
       "    .dataframe tbody tr th {\n",
       "        vertical-align: top;\n",
       "    }\n",
       "\n",
       "    .dataframe thead th {\n",
       "        text-align: right;\n",
       "    }\n",
       "</style>\n",
       "<table border=\"1\" class=\"dataframe\">\n",
       "  <thead>\n",
       "    <tr style=\"text-align: right;\">\n",
       "      <th></th>\n",
       "      <th>YEAR</th>\n",
       "      <th>STATE</th>\n",
       "      <th>RATE</th>\n",
       "      <th>DEATHS</th>\n",
       "    </tr>\n",
       "  </thead>\n",
       "  <tbody>\n",
       "    <tr>\n",
       "      <td>count</td>\n",
       "      <td>301</td>\n",
       "      <td>300</td>\n",
       "      <td>300.000000</td>\n",
       "      <td>300.000000</td>\n",
       "    </tr>\n",
       "    <tr>\n",
       "      <td>unique</td>\n",
       "      <td>7</td>\n",
       "      <td>50</td>\n",
       "      <td>NaN</td>\n",
       "      <td>NaN</td>\n",
       "    </tr>\n",
       "    <tr>\n",
       "      <td>top</td>\n",
       "      <td>2016.0</td>\n",
       "      <td>PA</td>\n",
       "      <td>NaN</td>\n",
       "      <td>NaN</td>\n",
       "    </tr>\n",
       "    <tr>\n",
       "      <td>freq</td>\n",
       "      <td>50</td>\n",
       "      <td>6</td>\n",
       "      <td>NaN</td>\n",
       "      <td>NaN</td>\n",
       "    </tr>\n",
       "    <tr>\n",
       "      <td>mean</td>\n",
       "      <td>NaN</td>\n",
       "      <td>NaN</td>\n",
       "      <td>12.441667</td>\n",
       "      <td>726.730000</td>\n",
       "    </tr>\n",
       "    <tr>\n",
       "      <td>std</td>\n",
       "      <td>NaN</td>\n",
       "      <td>NaN</td>\n",
       "      <td>4.820500</td>\n",
       "      <td>711.114668</td>\n",
       "    </tr>\n",
       "    <tr>\n",
       "      <td>min</td>\n",
       "      <td>NaN</td>\n",
       "      <td>NaN</td>\n",
       "      <td>2.100000</td>\n",
       "      <td>28.000000</td>\n",
       "    </tr>\n",
       "    <tr>\n",
       "      <td>25%</td>\n",
       "      <td>NaN</td>\n",
       "      <td>NaN</td>\n",
       "      <td>9.375000</td>\n",
       "      <td>192.750000</td>\n",
       "    </tr>\n",
       "    <tr>\n",
       "      <td>50%</td>\n",
       "      <td>NaN</td>\n",
       "      <td>NaN</td>\n",
       "      <td>12.100000</td>\n",
       "      <td>531.500000</td>\n",
       "    </tr>\n",
       "    <tr>\n",
       "      <td>75%</td>\n",
       "      <td>NaN</td>\n",
       "      <td>NaN</td>\n",
       "      <td>16.000000</td>\n",
       "      <td>999.750000</td>\n",
       "    </tr>\n",
       "    <tr>\n",
       "      <td>max</td>\n",
       "      <td>NaN</td>\n",
       "      <td>NaN</td>\n",
       "      <td>24.500000</td>\n",
       "      <td>3522.000000</td>\n",
       "    </tr>\n",
       "  </tbody>\n",
       "</table>\n",
       "</div>"
      ],
      "text/plain": [
       "          YEAR STATE        RATE       DEATHS\n",
       "count      301   300  300.000000   300.000000\n",
       "unique       7    50         NaN          NaN\n",
       "top     2016.0    PA         NaN          NaN\n",
       "freq        50     6         NaN          NaN\n",
       "mean       NaN   NaN   12.441667   726.730000\n",
       "std        NaN   NaN    4.820500   711.114668\n",
       "min        NaN   NaN    2.100000    28.000000\n",
       "25%        NaN   NaN    9.375000   192.750000\n",
       "50%        NaN   NaN   12.100000   531.500000\n",
       "75%        NaN   NaN   16.000000   999.750000\n",
       "max        NaN   NaN   24.500000  3522.000000"
      ]
     },
     "execution_count": 171,
     "metadata": {},
     "output_type": "execute_result"
    }
   ],
   "source": [
    "Df[\"YEAR\"]=Df[\"YEAR\"].astype(\"str\")\n",
    "Df.describe (include=\"all\")"
   ]
  },
  {
   "cell_type": "code",
   "execution_count": 191,
   "metadata": {
    "colab": {},
    "colab_type": "code",
    "id": "kx3ptuBBRPXb"
   },
   "outputs": [
    {
     "data": {
      "text/html": [
       "<div>\n",
       "<style scoped>\n",
       "    .dataframe tbody tr th:only-of-type {\n",
       "        vertical-align: middle;\n",
       "    }\n",
       "\n",
       "    .dataframe tbody tr th {\n",
       "        vertical-align: top;\n",
       "    }\n",
       "\n",
       "    .dataframe thead th {\n",
       "        text-align: right;\n",
       "    }\n",
       "</style>\n",
       "<table border=\"1\" class=\"dataframe\">\n",
       "  <thead>\n",
       "    <tr style=\"text-align: right;\">\n",
       "      <th></th>\n",
       "      <th>YEAR</th>\n",
       "      <th>STATE</th>\n",
       "      <th>RATE</th>\n",
       "      <th>DEATHS</th>\n",
       "    </tr>\n",
       "  </thead>\n",
       "  <tbody>\n",
       "    <tr>\n",
       "      <td>176</td>\n",
       "      <td>2015.0</td>\n",
       "      <td>NE</td>\n",
       "      <td>8.9</td>\n",
       "      <td>169.0</td>\n",
       "    </tr>\n",
       "    <tr>\n",
       "      <td>32</td>\n",
       "      <td>2018.0</td>\n",
       "      <td>NC</td>\n",
       "      <td>13.3</td>\n",
       "      <td>1416.0</td>\n",
       "    </tr>\n",
       "    <tr>\n",
       "      <td>41</td>\n",
       "      <td>2018.0</td>\n",
       "      <td>TN</td>\n",
       "      <td>17.8</td>\n",
       "      <td>1228.0</td>\n",
       "    </tr>\n",
       "    <tr>\n",
       "      <td>274</td>\n",
       "      <td>2005.0</td>\n",
       "      <td>MO</td>\n",
       "      <td>12.9</td>\n",
       "      <td>752.0</td>\n",
       "    </tr>\n",
       "    <tr>\n",
       "      <td>128</td>\n",
       "      <td>2016.0</td>\n",
       "      <td>NH</td>\n",
       "      <td>9.3</td>\n",
       "      <td>132.0</td>\n",
       "    </tr>\n",
       "    <tr>\n",
       "      <td>239</td>\n",
       "      <td>2014.0</td>\n",
       "      <td>SC</td>\n",
       "      <td>15.5</td>\n",
       "      <td>767.0</td>\n",
       "    </tr>\n",
       "    <tr>\n",
       "      <td>125</td>\n",
       "      <td>2016.0</td>\n",
       "      <td>MT</td>\n",
       "      <td>18.9</td>\n",
       "      <td>194.0</td>\n",
       "    </tr>\n",
       "    <tr>\n",
       "      <td>207</td>\n",
       "      <td>2014.0</td>\n",
       "      <td>DE</td>\n",
       "      <td>11.1</td>\n",
       "      <td>102.0</td>\n",
       "    </tr>\n",
       "    <tr>\n",
       "      <td>284</td>\n",
       "      <td>2005.0</td>\n",
       "      <td>OH</td>\n",
       "      <td>9.6</td>\n",
       "      <td>1116.0</td>\n",
       "    </tr>\n",
       "    <tr>\n",
       "      <td>198</td>\n",
       "      <td>2015.0</td>\n",
       "      <td>WI</td>\n",
       "      <td>10.4</td>\n",
       "      <td>613.0</td>\n",
       "    </tr>\n",
       "    <tr>\n",
       "      <td>141</td>\n",
       "      <td>2016.0</td>\n",
       "      <td>TN</td>\n",
       "      <td>17.1</td>\n",
       "      <td>1148.0</td>\n",
       "    </tr>\n",
       "    <tr>\n",
       "      <td>252</td>\n",
       "      <td>2005.0</td>\n",
       "      <td>AZ</td>\n",
       "      <td>16.1</td>\n",
       "      <td>934.0</td>\n",
       "    </tr>\n",
       "    <tr>\n",
       "      <td>243</td>\n",
       "      <td>2014.0</td>\n",
       "      <td>UT</td>\n",
       "      <td>12.3</td>\n",
       "      <td>337.0</td>\n",
       "    </tr>\n",
       "    <tr>\n",
       "      <td>43</td>\n",
       "      <td>2018.0</td>\n",
       "      <td>UT</td>\n",
       "      <td>13.2</td>\n",
       "      <td>397.0</td>\n",
       "    </tr>\n",
       "    <tr>\n",
       "      <td>254</td>\n",
       "      <td>2005.0</td>\n",
       "      <td>CA</td>\n",
       "      <td>9.5</td>\n",
       "      <td>3453.0</td>\n",
       "    </tr>\n",
       "    <tr>\n",
       "      <td>212</td>\n",
       "      <td>2014.0</td>\n",
       "      <td>IL</td>\n",
       "      <td>9.0</td>\n",
       "      <td>1179.0</td>\n",
       "    </tr>\n",
       "    <tr>\n",
       "      <td>288</td>\n",
       "      <td>2005.0</td>\n",
       "      <td>RI</td>\n",
       "      <td>3.6</td>\n",
       "      <td>39.0</td>\n",
       "    </tr>\n",
       "    <tr>\n",
       "      <td>99</td>\n",
       "      <td>2017.0</td>\n",
       "      <td>WY</td>\n",
       "      <td>18.8</td>\n",
       "      <td>113.0</td>\n",
       "    </tr>\n",
       "    <tr>\n",
       "      <td>229</td>\n",
       "      <td>2014.0</td>\n",
       "      <td>NJ</td>\n",
       "      <td>5.3</td>\n",
       "      <td>468.0</td>\n",
       "    </tr>\n",
       "    <tr>\n",
       "      <td>69</td>\n",
       "      <td>2017.0</td>\n",
       "      <td>MD</td>\n",
       "      <td>12.3</td>\n",
       "      <td>742.0</td>\n",
       "    </tr>\n",
       "  </tbody>\n",
       "</table>\n",
       "</div>"
      ],
      "text/plain": [
       "       YEAR STATE  RATE  DEATHS\n",
       "176  2015.0    NE   8.9   169.0\n",
       "32   2018.0    NC  13.3  1416.0\n",
       "41   2018.0    TN  17.8  1228.0\n",
       "274  2005.0    MO  12.9   752.0\n",
       "128  2016.0    NH   9.3   132.0\n",
       "239  2014.0    SC  15.5   767.0\n",
       "125  2016.0    MT  18.9   194.0\n",
       "207  2014.0    DE  11.1   102.0\n",
       "284  2005.0    OH   9.6  1116.0\n",
       "198  2015.0    WI  10.4   613.0\n",
       "141  2016.0    TN  17.1  1148.0\n",
       "252  2005.0    AZ  16.1   934.0\n",
       "243  2014.0    UT  12.3   337.0\n",
       "43   2018.0    UT  13.2   397.0\n",
       "254  2005.0    CA   9.5  3453.0\n",
       "212  2014.0    IL   9.0  1179.0\n",
       "288  2005.0    RI   3.6    39.0\n",
       "99   2017.0    WY  18.8   113.0\n",
       "229  2014.0    NJ   5.3   468.0\n",
       "69   2017.0    MD  12.3   742.0"
      ]
     },
     "execution_count": 191,
     "metadata": {},
     "output_type": "execute_result"
    }
   ],
   "source": [
    "# Selecting 20 random sample from our population data\n",
    "Df.sample(20)"
   ]
  },
  {
   "cell_type": "code",
   "execution_count": 192,
   "metadata": {
    "colab": {
     "base_uri": "https://localhost:8080/",
     "height": 35
    },
    "colab_type": "code",
    "id": "uF5S22ygRgb8",
    "outputId": "5c2ab589-470d-4740-f9c1-42e8295a7446"
   },
   "outputs": [
    {
     "data": {
      "text/plain": [
       "721.9"
      ]
     },
     "execution_count": 192,
     "metadata": {},
     "output_type": "execute_result"
    }
   ],
   "source": [
    "# Calculate sample mean for 50 random DEATHS\n",
    "sample_size=50\n",
    "Df_sample=Df.sample(sample_size)\n",
    "sample_mean=Df_sample[\"DEATHS\"].mean()\n",
    "sample_mean"
   ]
  },
  {
   "cell_type": "code",
   "execution_count": 193,
   "metadata": {
    "colab": {
     "base_uri": "https://localhost:8080/",
     "height": 35
    },
    "colab_type": "code",
    "id": "Hat5atTRUJPy",
    "outputId": "e1cdc84a-6fa1-4b84-d2e2-2e44a02ab19e"
   },
   "outputs": [
    {
     "data": {
      "text/plain": [
       "807.6696700498089"
      ]
     },
     "execution_count": 193,
     "metadata": {},
     "output_type": "execute_result"
    }
   ],
   "source": [
    "# calculating sample standard deviation\n",
    "sample_std= Df_sample[\"DEATHS\"].std()\n",
    "sample_std"
   ]
  },
  {
   "cell_type": "code",
   "execution_count": 194,
   "metadata": {
    "colab": {
     "base_uri": "https://localhost:8080/",
     "height": 35
    },
    "colab_type": "code",
    "id": "GAKEJjGYUmOa",
    "outputId": "47c74364-9b74-4d1f-cbd1-87a1566da40f"
   },
   "outputs": [
    {
     "data": {
      "text/plain": [
       "807.67"
      ]
     },
     "execution_count": 194,
     "metadata": {},
     "output_type": "execute_result"
    }
   ],
   "source": [
    "# calculate the sample standard deviation using for loop.\n",
    "\n",
    "deaths_list = list(Df_sample[\"DEATHS\"])\n",
    "degree_of_freedom = sample_size - 1 # N=(n-1) for sample data\n",
    "variance = 0\n",
    "for deaths in deaths_list:\n",
    "    variance += (deaths - sample_mean)**2\n",
    "sample_std = math.sqrt(variance/degree_of_freedom) # df=1\n",
    "round(sample_std, 2)"
   ]
  },
  {
   "cell_type": "markdown",
   "metadata": {
    "colab_type": "text",
    "id": "paw-DL0_W8Ee"
   },
   "source": [
    "### *Confidence Intervals*\n",
    "#### We will use the following chracteristics of a normal distribution:\n",
    "\n",
    "#### 68% of values are within 1 standard deviation of the mean, 𝜇±𝜎\n",
    "#### 95% of values are within 2 standard deviations of the mean, 𝜇±2𝜎\n",
    "#### 99.7% of values are within 3 standard deviations of the mean, 𝜇±3𝜎 "
   ]
  },
  {
   "cell_type": "code",
   "execution_count": 195,
   "metadata": {
    "colab": {
     "base_uri": "https://localhost:8080/",
     "height": 35
    },
    "colab_type": "code",
    "id": "c-A2RJ5mW7rn",
    "outputId": "f6a414eb-80d8-41b9-c5fc-64cf0b295a30"
   },
   "outputs": [
    {
     "data": {
      "text/plain": [
       "114.22174013018426"
      ]
     },
     "execution_count": 195,
     "metadata": {},
     "output_type": "execute_result"
    }
   ],
   "source": [
    "# Calcualting standard deviation error.\n",
    "std_err= sample_std/math.sqrt(sample_size) # sample_size(n=50)\n",
    "std_err"
   ]
  },
  {
   "cell_type": "code",
   "execution_count": 196,
   "metadata": {
    "colab": {
     "base_uri": "https://localhost:8080/",
     "height": 52
    },
    "colab_type": "code",
    "id": "NKfgPlRLZHyw",
    "outputId": "48b88fef-2a5c-4e72-83dd-540d9cc7d618"
   },
   "outputs": [
    {
     "name": "stdout",
     "output_type": "stream",
     "text": [
      "Lower confidence limit at 68% confidence level =  607.68\n",
      "Upper confidence limit at 68% confidence level =  836.12\n"
     ]
    }
   ],
   "source": [
    "# Calculate 68% Confidence Interval (CI) - one standard error from the population mean\n",
    "# 68% chances the population mean is within the sample_mean (+ or -) the standard error (SE)\n",
    "\n",
    "LCL_68 = sample_mean -  std_err\n",
    "UCL_68 = sample_mean +  std_err\n",
    "\n",
    "print(\"Lower confidence limit at 68% confidence level = \", round(LCL_68,2))\n",
    "print(\"Upper confidence limit at 68% confidence level = \", round(UCL_68,2))"
   ]
  },
  {
   "cell_type": "code",
   "execution_count": 197,
   "metadata": {
    "colab": {
     "base_uri": "https://localhost:8080/",
     "height": 52
    },
    "colab_type": "code",
    "id": "pPwn7zhqZxA4",
    "outputId": "997200eb-86f8-4b28-80c5-0749ef51c4ca"
   },
   "outputs": [
    {
     "name": "stdout",
     "output_type": "stream",
     "text": [
      "Lower confidence limit at 95% confidence level =  493.46\n",
      "Upper confidence limit at 95% confidence level =  950.34\n"
     ]
    }
   ],
   "source": [
    "# Calculating 95% confidence Interval (CI) - one standard error from population mean\n",
    "# 95% chances the population mean is within the sample_mean + or - 2* the standard error (SE)\n",
    "\n",
    "LCL_95= sample_mean - 2*std_err\n",
    "UCL_95 = sample_mean + 2*std_err\n",
    "\n",
    "print(\"Lower confidence limit at 95% confidence level = \", round(LCL_95,2))\n",
    "print(\"Upper confidence limit at 95% confidence level = \", round(UCL_95,2))"
   ]
  },
  {
   "cell_type": "code",
   "execution_count": 198,
   "metadata": {
    "colab": {
     "base_uri": "https://localhost:8080/",
     "height": 52
    },
    "colab_type": "code",
    "id": "pz3RcTW8bGPm",
    "outputId": "8d8002ef-8818-4369-d943-2ad2db235f48"
   },
   "outputs": [
    {
     "name": "stdout",
     "output_type": "stream",
     "text": [
      "Lower confidence limit at 99.7% confidence level =  379.23\n",
      "Upper confidence limit at 99.7% confidence level =  1064.57\n"
     ]
    }
   ],
   "source": [
    "# Calculate 99.7% Confidence Interval (CI) - one standard error from the population mean\n",
    "# 99.7% chances the population mean is within the sample_mean + or - 3 * the standard error (SE)\n",
    "\n",
    "LCL_997 = sample_mean -  3 * std_err\n",
    "UCL_997 = sample_mean +  3 * std_err\n",
    "print(\"Lower confidence limit at 99.7% confidence level = \", round(LCL_997,2))\n",
    "print(\"Upper confidence limit at 99.7% confidence level = \", round(UCL_997,2))"
   ]
  },
  {
   "cell_type": "code",
   "execution_count": 199,
   "metadata": {
    "colab": {
     "base_uri": "https://localhost:8080/",
     "height": 35
    },
    "colab_type": "code",
    "id": "PsEapTfNbjof",
    "outputId": "1136d93e-10dd-4a04-be71-6d15a4fb5f05"
   },
   "outputs": [
    {
     "data": {
      "text/plain": [
       "726.73"
      ]
     },
     "execution_count": 199,
     "metadata": {},
     "output_type": "execute_result"
    }
   ],
   "source": [
    "# Calcutaing the population mean\n",
    "Df[\"DEATHS\"].mean()"
   ]
  },
  {
   "cell_type": "code",
   "execution_count": 200,
   "metadata": {
    "colab": {
     "base_uri": "https://localhost:8080/",
     "height": 415
    },
    "colab_type": "code",
    "id": "gE_pqJVwcSaU",
    "outputId": "4b9cc329-42f1-48a5-d581-598c07c11426"
   },
   "outputs": [
    {
     "data": {
      "text/html": [
       "<div>\n",
       "<style scoped>\n",
       "    .dataframe tbody tr th:only-of-type {\n",
       "        vertical-align: middle;\n",
       "    }\n",
       "\n",
       "    .dataframe tbody tr th {\n",
       "        vertical-align: top;\n",
       "    }\n",
       "\n",
       "    .dataframe thead th {\n",
       "        text-align: right;\n",
       "    }\n",
       "</style>\n",
       "<table border=\"1\" class=\"dataframe\">\n",
       "  <thead>\n",
       "    <tr style=\"text-align: right;\">\n",
       "      <th></th>\n",
       "      <th>YEAR</th>\n",
       "      <th>STATE</th>\n",
       "      <th>RATE</th>\n",
       "      <th>DEATHS</th>\n",
       "    </tr>\n",
       "  </thead>\n",
       "  <tbody>\n",
       "    <tr>\n",
       "      <td>42</td>\n",
       "      <td>2018.0</td>\n",
       "      <td>TX</td>\n",
       "      <td>12.2</td>\n",
       "      <td>3522.0</td>\n",
       "    </tr>\n",
       "    <tr>\n",
       "      <td>92</td>\n",
       "      <td>2017.0</td>\n",
       "      <td>TX</td>\n",
       "      <td>12.4</td>\n",
       "      <td>3513.0</td>\n",
       "    </tr>\n",
       "    <tr>\n",
       "      <td>254</td>\n",
       "      <td>2005.0</td>\n",
       "      <td>CA</td>\n",
       "      <td>9.5</td>\n",
       "      <td>3453.0</td>\n",
       "    </tr>\n",
       "    <tr>\n",
       "      <td>142</td>\n",
       "      <td>2016.0</td>\n",
       "      <td>TX</td>\n",
       "      <td>12.1</td>\n",
       "      <td>3353.0</td>\n",
       "    </tr>\n",
       "    <tr>\n",
       "      <td>192</td>\n",
       "      <td>2015.0</td>\n",
       "      <td>TX</td>\n",
       "      <td>11.7</td>\n",
       "      <td>3203.0</td>\n",
       "    </tr>\n",
       "    <tr>\n",
       "      <td>...</td>\n",
       "      <td>...</td>\n",
       "      <td>...</td>\n",
       "      <td>...</td>\n",
       "      <td>...</td>\n",
       "    </tr>\n",
       "    <tr>\n",
       "      <td>288</td>\n",
       "      <td>2005.0</td>\n",
       "      <td>RI</td>\n",
       "      <td>3.6</td>\n",
       "      <td>39.0</td>\n",
       "    </tr>\n",
       "    <tr>\n",
       "      <td>38</td>\n",
       "      <td>2018.0</td>\n",
       "      <td>RI</td>\n",
       "      <td>3.3</td>\n",
       "      <td>37.0</td>\n",
       "    </tr>\n",
       "    <tr>\n",
       "      <td>238</td>\n",
       "      <td>2014.0</td>\n",
       "      <td>RI</td>\n",
       "      <td>3.0</td>\n",
       "      <td>34.0</td>\n",
       "    </tr>\n",
       "    <tr>\n",
       "      <td>260</td>\n",
       "      <td>2005.0</td>\n",
       "      <td>HI</td>\n",
       "      <td>2.1</td>\n",
       "      <td>28.0</td>\n",
       "    </tr>\n",
       "    <tr>\n",
       "      <td>300</td>\n",
       "      <td>nan</td>\n",
       "      <td>NaN</td>\n",
       "      <td>NaN</td>\n",
       "      <td>NaN</td>\n",
       "    </tr>\n",
       "  </tbody>\n",
       "</table>\n",
       "<p>301 rows × 4 columns</p>\n",
       "</div>"
      ],
      "text/plain": [
       "       YEAR STATE  RATE  DEATHS\n",
       "42   2018.0    TX  12.2  3522.0\n",
       "92   2017.0    TX  12.4  3513.0\n",
       "254  2005.0    CA   9.5  3453.0\n",
       "142  2016.0    TX  12.1  3353.0\n",
       "192  2015.0    TX  11.7  3203.0\n",
       "..      ...   ...   ...     ...\n",
       "288  2005.0    RI   3.6    39.0\n",
       "38   2018.0    RI   3.3    37.0\n",
       "238  2014.0    RI   3.0    34.0\n",
       "260  2005.0    HI   2.1    28.0\n",
       "300     nan   NaN   NaN     NaN\n",
       "\n",
       "[301 rows x 4 columns]"
      ]
     },
     "execution_count": 200,
     "metadata": {},
     "output_type": "execute_result"
    }
   ],
   "source": [
    "# States with highest number of deaths.\n",
    "Df.sort_values(\"DEATHS\", ascending=False)"
   ]
  },
  {
   "cell_type": "code",
   "execution_count": 201,
   "metadata": {
    "colab": {
     "base_uri": "https://localhost:8080/",
     "height": 263
    },
    "colab_type": "code",
    "id": "imMiECrmeX5s",
    "outputId": "8dfeb2ee-41b6-4bb7-d961-9c4af63117ea"
   },
   "outputs": [
    {
     "data": {
      "text/html": [
       "<div>\n",
       "<style scoped>\n",
       "    .dataframe tbody tr th:only-of-type {\n",
       "        vertical-align: middle;\n",
       "    }\n",
       "\n",
       "    .dataframe tbody tr th {\n",
       "        vertical-align: top;\n",
       "    }\n",
       "\n",
       "    .dataframe thead th {\n",
       "        text-align: right;\n",
       "    }\n",
       "</style>\n",
       "<table border=\"1\" class=\"dataframe\">\n",
       "  <thead>\n",
       "    <tr style=\"text-align: right;\">\n",
       "      <th></th>\n",
       "      <th>YEAR</th>\n",
       "      <th>DEATHS</th>\n",
       "      <th>RATE</th>\n",
       "    </tr>\n",
       "  </thead>\n",
       "  <tbody>\n",
       "    <tr>\n",
       "      <td>0</td>\n",
       "      <td>2005.0</td>\n",
       "      <td>30540.0</td>\n",
       "      <td>540.5</td>\n",
       "    </tr>\n",
       "    <tr>\n",
       "      <td>1</td>\n",
       "      <td>2014.0</td>\n",
       "      <td>33508.0</td>\n",
       "      <td>572.0</td>\n",
       "    </tr>\n",
       "    <tr>\n",
       "      <td>2</td>\n",
       "      <td>2015.0</td>\n",
       "      <td>36132.0</td>\n",
       "      <td>620.3</td>\n",
       "    </tr>\n",
       "    <tr>\n",
       "      <td>3</td>\n",
       "      <td>2016.0</td>\n",
       "      <td>38551.0</td>\n",
       "      <td>652.7</td>\n",
       "    </tr>\n",
       "    <tr>\n",
       "      <td>4</td>\n",
       "      <td>2017.0</td>\n",
       "      <td>39673.0</td>\n",
       "      <td>677.6</td>\n",
       "    </tr>\n",
       "    <tr>\n",
       "      <td>5</td>\n",
       "      <td>2018.0</td>\n",
       "      <td>39615.0</td>\n",
       "      <td>669.4</td>\n",
       "    </tr>\n",
       "    <tr>\n",
       "      <td>6</td>\n",
       "      <td>nan</td>\n",
       "      <td>0.0</td>\n",
       "      <td>0.0</td>\n",
       "    </tr>\n",
       "  </tbody>\n",
       "</table>\n",
       "</div>"
      ],
      "text/plain": [
       "     YEAR   DEATHS   RATE\n",
       "0  2005.0  30540.0  540.5\n",
       "1  2014.0  33508.0  572.0\n",
       "2  2015.0  36132.0  620.3\n",
       "3  2016.0  38551.0  652.7\n",
       "4  2017.0  39673.0  677.6\n",
       "5  2018.0  39615.0  669.4\n",
       "6     nan      0.0    0.0"
      ]
     },
     "execution_count": 201,
     "metadata": {},
     "output_type": "execute_result"
    }
   ],
   "source": [
    "# Investigating the total number of deaths & rates in repective years.\n",
    "Df.groupby('YEAR', as_index = False).agg({'DEATHS':\"sum\", 'RATE':'sum'})"
   ]
  },
  {
   "cell_type": "markdown",
   "metadata": {},
   "source": [
    "### Bar Plot Display of  Rate by Year."
   ]
  },
  {
   "cell_type": "code",
   "execution_count": 203,
   "metadata": {},
   "outputs": [
    {
     "data": {
      "application/vnd.plotly.v1+json": {
       "config": {
        "plotlyServerURL": "https://plot.ly"
       },
       "data": [
        {
         "alignmentgroup": "True",
         "hovertemplate": "YEAR=%{x}<br>RATE=%{marker.color}<extra></extra>",
         "legendgroup": "",
         "marker": {
          "color": [
           21.8,
           21,
           15.3,
           18.9,
           7.5,
           15.2,
           4.9,
           11.6,
           12.9,
           15.7,
           4,
           16.6,
           10.9,
           14.7,
           8.7,
           14.8,
           16.9,
           21.4,
           10.3,
           11.7,
           3.5,
           12.9,
           7.8,
           22.9,
           21.5,
           17.3,
           9,
           17.9,
           10.8,
           4.8,
           20.7,
           4.1,
           13.3,
           11.5,
           13.1,
           16.8,
           11.7,
           12.5,
           3.3,
           17.6,
           13.6,
           17.8,
           12.2,
           13.2,
           12.8,
           11.8,
           10.4,
           18.2,
           10.1,
           21.5,
           22.9,
           24.5,
           15.8,
           20.3,
           7.9,
           13.4,
           5.1,
           11.7,
           12.4,
           15.4,
           2.5,
           16.4,
           12.1,
           15.3,
           9,
           16,
           16.2,
           21.7,
           11.7,
           12.3,
           3.7,
           11.3,
           8.2,
           21.5,
           21.5,
           22.5,
           8.3,
           16.7,
           10.4,
           5.3,
           18.5,
           3.7,
           13.7,
           13.2,
           13.7,
           17.2,
           12.1,
           12.5,
           3.9,
           17.7,
           11.9,
           18.4,
           12.4,
           14,
           11.7,
           11.9,
           11.1,
           18.6,
           10.6,
           18.8,
           21.5,
           23.3,
           15.2,
           17.8,
           7.9,
           14.3,
           4.6,
           11,
           12.6,
           15,
           4.5,
           14.6,
           11.7,
           15,
           9.2,
           13.4,
           17.5,
           21.3,
           8.3,
           11.9,
           3.4,
           12.3,
           7.6,
           19.9,
           19,
           18.9,
           9.1,
           16.8,
           9.3,
           5.5,
           18.1,
           4.4,
           13.7,
           11.9,
           12.9,
           19.6,
           11.9,
           12,
           4.1,
           17.7,
           13.4,
           17.1,
           12.1,
           12.9,
           11.1,
           12.1,
           9,
           17.5,
           11.4,
           17.4,
           19.6,
           23.4,
           13.8,
           16.9,
           7.7,
           12.6,
           5.3,
           12.1,
           12,
           14.1,
           3.6,
           14.7,
           9.5,
           12.7,
           7.8,
           11.4,
           15.2,
           20.4,
           9.8,
           11.9,
           3,
           11.7,
           7.4,
           19.6,
           18.1,
           19.2,
           8.9,
           14.9,
           8.9,
           5.4,
           18.6,
           4.2,
           12.5,
           12.8,
           11.9,
           18,
           11.4,
           11.4,
           4.7,
           17.3,
           11.1,
           16,
           11.7,
           12.8,
           9.6,
           10.9,
           9.8,
           14,
           10.4,
           19.6,
           16.9,
           19.2,
           13.5,
           16.6,
           7.4,
           12.2,
           5,
           11.1,
           11.5,
           13.7,
           2.6,
           13.2,
           9,
           12.4,
           7.5,
           11.3,
           13.9,
           19,
           9.4,
           9,
           3.2,
           11.1,
           6.6,
           18.3,
           15.3,
           16.1,
           9.5,
           14.8,
           8.7,
           5.3,
           16,
           4.2,
           11.8,
           12.3,
           10.3,
           15.7,
           11.7,
           10.5,
           3,
           15.5,
           10.3,
           15.1,
           10.7,
           12.3,
           10.3,
           10.3,
           9.7,
           14.6,
           8.2,
           16.2,
           16,
           17.5,
           16.1,
           15.7,
           9.5,
           11.6,
           5.3,
           8.8,
           10,
           12.1,
           2.1,
           14.1,
           8,
           11.2,
           6.7,
           9.3,
           13,
           18.5,
           7.8,
           11.9,
           3.4,
           10.8,
           7,
           16,
           12.9,
           16.9,
           7.7,
           16.1,
           6.6,
           5.2,
           13.9,
           5.3,
           12.8,
           8.8,
           9.6,
           13.2,
           10.7,
           10.8,
           3.6,
           13.8,
           10.2,
           16,
           11.1,
           10.1,
           6.8,
           11.5,
           8.8,
           13.8,
           8.5,
           13.4,
           null
          ],
          "coloraxis": "coloraxis"
         },
         "name": "",
         "offsetgroup": "",
         "orientation": "v",
         "showlegend": false,
         "textposition": "auto",
         "type": "bar",
         "x": [
          "2018.0",
          "2018.0",
          "2018.0",
          "2018.0",
          "2018.0",
          "2018.0",
          "2018.0",
          "2018.0",
          "2018.0",
          "2018.0",
          "2018.0",
          "2018.0",
          "2018.0",
          "2018.0",
          "2018.0",
          "2018.0",
          "2018.0",
          "2018.0",
          "2018.0",
          "2018.0",
          "2018.0",
          "2018.0",
          "2018.0",
          "2018.0",
          "2018.0",
          "2018.0",
          "2018.0",
          "2018.0",
          "2018.0",
          "2018.0",
          "2018.0",
          "2018.0",
          "2018.0",
          "2018.0",
          "2018.0",
          "2018.0",
          "2018.0",
          "2018.0",
          "2018.0",
          "2018.0",
          "2018.0",
          "2018.0",
          "2018.0",
          "2018.0",
          "2018.0",
          "2018.0",
          "2018.0",
          "2018.0",
          "2018.0",
          "2018.0",
          "2017.0",
          "2017.0",
          "2017.0",
          "2017.0",
          "2017.0",
          "2017.0",
          "2017.0",
          "2017.0",
          "2017.0",
          "2017.0",
          "2017.0",
          "2017.0",
          "2017.0",
          "2017.0",
          "2017.0",
          "2017.0",
          "2017.0",
          "2017.0",
          "2017.0",
          "2017.0",
          "2017.0",
          "2017.0",
          "2017.0",
          "2017.0",
          "2017.0",
          "2017.0",
          "2017.0",
          "2017.0",
          "2017.0",
          "2017.0",
          "2017.0",
          "2017.0",
          "2017.0",
          "2017.0",
          "2017.0",
          "2017.0",
          "2017.0",
          "2017.0",
          "2017.0",
          "2017.0",
          "2017.0",
          "2017.0",
          "2017.0",
          "2017.0",
          "2017.0",
          "2017.0",
          "2017.0",
          "2017.0",
          "2017.0",
          "2017.0",
          "2016.0",
          "2016.0",
          "2016.0",
          "2016.0",
          "2016.0",
          "2016.0",
          "2016.0",
          "2016.0",
          "2016.0",
          "2016.0",
          "2016.0",
          "2016.0",
          "2016.0",
          "2016.0",
          "2016.0",
          "2016.0",
          "2016.0",
          "2016.0",
          "2016.0",
          "2016.0",
          "2016.0",
          "2016.0",
          "2016.0",
          "2016.0",
          "2016.0",
          "2016.0",
          "2016.0",
          "2016.0",
          "2016.0",
          "2016.0",
          "2016.0",
          "2016.0",
          "2016.0",
          "2016.0",
          "2016.0",
          "2016.0",
          "2016.0",
          "2016.0",
          "2016.0",
          "2016.0",
          "2016.0",
          "2016.0",
          "2016.0",
          "2016.0",
          "2016.0",
          "2016.0",
          "2016.0",
          "2016.0",
          "2016.0",
          "2016.0",
          "2015.0",
          "2015.0",
          "2015.0",
          "2015.0",
          "2015.0",
          "2015.0",
          "2015.0",
          "2015.0",
          "2015.0",
          "2015.0",
          "2015.0",
          "2015.0",
          "2015.0",
          "2015.0",
          "2015.0",
          "2015.0",
          "2015.0",
          "2015.0",
          "2015.0",
          "2015.0",
          "2015.0",
          "2015.0",
          "2015.0",
          "2015.0",
          "2015.0",
          "2015.0",
          "2015.0",
          "2015.0",
          "2015.0",
          "2015.0",
          "2015.0",
          "2015.0",
          "2015.0",
          "2015.0",
          "2015.0",
          "2015.0",
          "2015.0",
          "2015.0",
          "2015.0",
          "2015.0",
          "2015.0",
          "2015.0",
          "2015.0",
          "2015.0",
          "2015.0",
          "2015.0",
          "2015.0",
          "2015.0",
          "2015.0",
          "2015.0",
          "2014.0",
          "2014.0",
          "2014.0",
          "2014.0",
          "2014.0",
          "2014.0",
          "2014.0",
          "2014.0",
          "2014.0",
          "2014.0",
          "2014.0",
          "2014.0",
          "2014.0",
          "2014.0",
          "2014.0",
          "2014.0",
          "2014.0",
          "2014.0",
          "2014.0",
          "2014.0",
          "2014.0",
          "2014.0",
          "2014.0",
          "2014.0",
          "2014.0",
          "2014.0",
          "2014.0",
          "2014.0",
          "2014.0",
          "2014.0",
          "2014.0",
          "2014.0",
          "2014.0",
          "2014.0",
          "2014.0",
          "2014.0",
          "2014.0",
          "2014.0",
          "2014.0",
          "2014.0",
          "2014.0",
          "2014.0",
          "2014.0",
          "2014.0",
          "2014.0",
          "2014.0",
          "2014.0",
          "2014.0",
          "2014.0",
          "2014.0",
          "2005.0",
          "2005.0",
          "2005.0",
          "2005.0",
          "2005.0",
          "2005.0",
          "2005.0",
          "2005.0",
          "2005.0",
          "2005.0",
          "2005.0",
          "2005.0",
          "2005.0",
          "2005.0",
          "2005.0",
          "2005.0",
          "2005.0",
          "2005.0",
          "2005.0",
          "2005.0",
          "2005.0",
          "2005.0",
          "2005.0",
          "2005.0",
          "2005.0",
          "2005.0",
          "2005.0",
          "2005.0",
          "2005.0",
          "2005.0",
          "2005.0",
          "2005.0",
          "2005.0",
          "2005.0",
          "2005.0",
          "2005.0",
          "2005.0",
          "2005.0",
          "2005.0",
          "2005.0",
          "2005.0",
          "2005.0",
          "2005.0",
          "2005.0",
          "2005.0",
          "2005.0",
          "2005.0",
          "2005.0",
          "2005.0",
          "2005.0",
          "nan"
         ],
         "xaxis": "x",
         "y": [
          21.8,
          21,
          15.3,
          18.9,
          7.5,
          15.2,
          4.9,
          11.6,
          12.9,
          15.7,
          4,
          16.6,
          10.9,
          14.7,
          8.7,
          14.8,
          16.9,
          21.4,
          10.3,
          11.7,
          3.5,
          12.9,
          7.8,
          22.9,
          21.5,
          17.3,
          9,
          17.9,
          10.8,
          4.8,
          20.7,
          4.1,
          13.3,
          11.5,
          13.1,
          16.8,
          11.7,
          12.5,
          3.3,
          17.6,
          13.6,
          17.8,
          12.2,
          13.2,
          12.8,
          11.8,
          10.4,
          18.2,
          10.1,
          21.5,
          22.9,
          24.5,
          15.8,
          20.3,
          7.9,
          13.4,
          5.1,
          11.7,
          12.4,
          15.4,
          2.5,
          16.4,
          12.1,
          15.3,
          9,
          16,
          16.2,
          21.7,
          11.7,
          12.3,
          3.7,
          11.3,
          8.2,
          21.5,
          21.5,
          22.5,
          8.3,
          16.7,
          10.4,
          5.3,
          18.5,
          3.7,
          13.7,
          13.2,
          13.7,
          17.2,
          12.1,
          12.5,
          3.9,
          17.7,
          11.9,
          18.4,
          12.4,
          14,
          11.7,
          11.9,
          11.1,
          18.6,
          10.6,
          18.8,
          21.5,
          23.3,
          15.2,
          17.8,
          7.9,
          14.3,
          4.6,
          11,
          12.6,
          15,
          4.5,
          14.6,
          11.7,
          15,
          9.2,
          13.4,
          17.5,
          21.3,
          8.3,
          11.9,
          3.4,
          12.3,
          7.6,
          19.9,
          19,
          18.9,
          9.1,
          16.8,
          9.3,
          5.5,
          18.1,
          4.4,
          13.7,
          11.9,
          12.9,
          19.6,
          11.9,
          12,
          4.1,
          17.7,
          13.4,
          17.1,
          12.1,
          12.9,
          11.1,
          12.1,
          9,
          17.5,
          11.4,
          17.4,
          19.6,
          23.4,
          13.8,
          16.9,
          7.7,
          12.6,
          5.3,
          12.1,
          12,
          14.1,
          3.6,
          14.7,
          9.5,
          12.7,
          7.8,
          11.4,
          15.2,
          20.4,
          9.8,
          11.9,
          3,
          11.7,
          7.4,
          19.6,
          18.1,
          19.2,
          8.9,
          14.9,
          8.9,
          5.4,
          18.6,
          4.2,
          12.5,
          12.8,
          11.9,
          18,
          11.4,
          11.4,
          4.7,
          17.3,
          11.1,
          16,
          11.7,
          12.8,
          9.6,
          10.9,
          9.8,
          14,
          10.4,
          19.6,
          16.9,
          19.2,
          13.5,
          16.6,
          7.4,
          12.2,
          5,
          11.1,
          11.5,
          13.7,
          2.6,
          13.2,
          9,
          12.4,
          7.5,
          11.3,
          13.9,
          19,
          9.4,
          9,
          3.2,
          11.1,
          6.6,
          18.3,
          15.3,
          16.1,
          9.5,
          14.8,
          8.7,
          5.3,
          16,
          4.2,
          11.8,
          12.3,
          10.3,
          15.7,
          11.7,
          10.5,
          3,
          15.5,
          10.3,
          15.1,
          10.7,
          12.3,
          10.3,
          10.3,
          9.7,
          14.6,
          8.2,
          16.2,
          16,
          17.5,
          16.1,
          15.7,
          9.5,
          11.6,
          5.3,
          8.8,
          10,
          12.1,
          2.1,
          14.1,
          8,
          11.2,
          6.7,
          9.3,
          13,
          18.5,
          7.8,
          11.9,
          3.4,
          10.8,
          7,
          16,
          12.9,
          16.9,
          7.7,
          16.1,
          6.6,
          5.2,
          13.9,
          5.3,
          12.8,
          8.8,
          9.6,
          13.2,
          10.7,
          10.8,
          3.6,
          13.8,
          10.2,
          16,
          11.1,
          10.1,
          6.8,
          11.5,
          8.8,
          13.8,
          8.5,
          13.4,
          null
         ],
         "yaxis": "y"
        }
       ],
       "layout": {
        "barmode": "relative",
        "coloraxis": {
         "colorbar": {
          "title": {
           "text": "RATE"
          }
         },
         "colorscale": [
          [
           0,
           "#0d0887"
          ],
          [
           0.1111111111111111,
           "#46039f"
          ],
          [
           0.2222222222222222,
           "#7201a8"
          ],
          [
           0.3333333333333333,
           "#9c179e"
          ],
          [
           0.4444444444444444,
           "#bd3786"
          ],
          [
           0.5555555555555556,
           "#d8576b"
          ],
          [
           0.6666666666666666,
           "#ed7953"
          ],
          [
           0.7777777777777778,
           "#fb9f3a"
          ],
          [
           0.8888888888888888,
           "#fdca26"
          ],
          [
           1,
           "#f0f921"
          ]
         ]
        },
        "legend": {
         "tracegroupgap": 0
        },
        "template": {
         "data": {
          "bar": [
           {
            "error_x": {
             "color": "#2a3f5f"
            },
            "error_y": {
             "color": "#2a3f5f"
            },
            "marker": {
             "line": {
              "color": "#E5ECF6",
              "width": 0.5
             }
            },
            "type": "bar"
           }
          ],
          "barpolar": [
           {
            "marker": {
             "line": {
              "color": "#E5ECF6",
              "width": 0.5
             }
            },
            "type": "barpolar"
           }
          ],
          "carpet": [
           {
            "aaxis": {
             "endlinecolor": "#2a3f5f",
             "gridcolor": "white",
             "linecolor": "white",
             "minorgridcolor": "white",
             "startlinecolor": "#2a3f5f"
            },
            "baxis": {
             "endlinecolor": "#2a3f5f",
             "gridcolor": "white",
             "linecolor": "white",
             "minorgridcolor": "white",
             "startlinecolor": "#2a3f5f"
            },
            "type": "carpet"
           }
          ],
          "choropleth": [
           {
            "colorbar": {
             "outlinewidth": 0,
             "ticks": ""
            },
            "type": "choropleth"
           }
          ],
          "contour": [
           {
            "colorbar": {
             "outlinewidth": 0,
             "ticks": ""
            },
            "colorscale": [
             [
              0,
              "#0d0887"
             ],
             [
              0.1111111111111111,
              "#46039f"
             ],
             [
              0.2222222222222222,
              "#7201a8"
             ],
             [
              0.3333333333333333,
              "#9c179e"
             ],
             [
              0.4444444444444444,
              "#bd3786"
             ],
             [
              0.5555555555555556,
              "#d8576b"
             ],
             [
              0.6666666666666666,
              "#ed7953"
             ],
             [
              0.7777777777777778,
              "#fb9f3a"
             ],
             [
              0.8888888888888888,
              "#fdca26"
             ],
             [
              1,
              "#f0f921"
             ]
            ],
            "type": "contour"
           }
          ],
          "contourcarpet": [
           {
            "colorbar": {
             "outlinewidth": 0,
             "ticks": ""
            },
            "type": "contourcarpet"
           }
          ],
          "heatmap": [
           {
            "colorbar": {
             "outlinewidth": 0,
             "ticks": ""
            },
            "colorscale": [
             [
              0,
              "#0d0887"
             ],
             [
              0.1111111111111111,
              "#46039f"
             ],
             [
              0.2222222222222222,
              "#7201a8"
             ],
             [
              0.3333333333333333,
              "#9c179e"
             ],
             [
              0.4444444444444444,
              "#bd3786"
             ],
             [
              0.5555555555555556,
              "#d8576b"
             ],
             [
              0.6666666666666666,
              "#ed7953"
             ],
             [
              0.7777777777777778,
              "#fb9f3a"
             ],
             [
              0.8888888888888888,
              "#fdca26"
             ],
             [
              1,
              "#f0f921"
             ]
            ],
            "type": "heatmap"
           }
          ],
          "heatmapgl": [
           {
            "colorbar": {
             "outlinewidth": 0,
             "ticks": ""
            },
            "colorscale": [
             [
              0,
              "#0d0887"
             ],
             [
              0.1111111111111111,
              "#46039f"
             ],
             [
              0.2222222222222222,
              "#7201a8"
             ],
             [
              0.3333333333333333,
              "#9c179e"
             ],
             [
              0.4444444444444444,
              "#bd3786"
             ],
             [
              0.5555555555555556,
              "#d8576b"
             ],
             [
              0.6666666666666666,
              "#ed7953"
             ],
             [
              0.7777777777777778,
              "#fb9f3a"
             ],
             [
              0.8888888888888888,
              "#fdca26"
             ],
             [
              1,
              "#f0f921"
             ]
            ],
            "type": "heatmapgl"
           }
          ],
          "histogram": [
           {
            "marker": {
             "colorbar": {
              "outlinewidth": 0,
              "ticks": ""
             }
            },
            "type": "histogram"
           }
          ],
          "histogram2d": [
           {
            "colorbar": {
             "outlinewidth": 0,
             "ticks": ""
            },
            "colorscale": [
             [
              0,
              "#0d0887"
             ],
             [
              0.1111111111111111,
              "#46039f"
             ],
             [
              0.2222222222222222,
              "#7201a8"
             ],
             [
              0.3333333333333333,
              "#9c179e"
             ],
             [
              0.4444444444444444,
              "#bd3786"
             ],
             [
              0.5555555555555556,
              "#d8576b"
             ],
             [
              0.6666666666666666,
              "#ed7953"
             ],
             [
              0.7777777777777778,
              "#fb9f3a"
             ],
             [
              0.8888888888888888,
              "#fdca26"
             ],
             [
              1,
              "#f0f921"
             ]
            ],
            "type": "histogram2d"
           }
          ],
          "histogram2dcontour": [
           {
            "colorbar": {
             "outlinewidth": 0,
             "ticks": ""
            },
            "colorscale": [
             [
              0,
              "#0d0887"
             ],
             [
              0.1111111111111111,
              "#46039f"
             ],
             [
              0.2222222222222222,
              "#7201a8"
             ],
             [
              0.3333333333333333,
              "#9c179e"
             ],
             [
              0.4444444444444444,
              "#bd3786"
             ],
             [
              0.5555555555555556,
              "#d8576b"
             ],
             [
              0.6666666666666666,
              "#ed7953"
             ],
             [
              0.7777777777777778,
              "#fb9f3a"
             ],
             [
              0.8888888888888888,
              "#fdca26"
             ],
             [
              1,
              "#f0f921"
             ]
            ],
            "type": "histogram2dcontour"
           }
          ],
          "mesh3d": [
           {
            "colorbar": {
             "outlinewidth": 0,
             "ticks": ""
            },
            "type": "mesh3d"
           }
          ],
          "parcoords": [
           {
            "line": {
             "colorbar": {
              "outlinewidth": 0,
              "ticks": ""
             }
            },
            "type": "parcoords"
           }
          ],
          "pie": [
           {
            "automargin": true,
            "type": "pie"
           }
          ],
          "scatter": [
           {
            "marker": {
             "colorbar": {
              "outlinewidth": 0,
              "ticks": ""
             }
            },
            "type": "scatter"
           }
          ],
          "scatter3d": [
           {
            "line": {
             "colorbar": {
              "outlinewidth": 0,
              "ticks": ""
             }
            },
            "marker": {
             "colorbar": {
              "outlinewidth": 0,
              "ticks": ""
             }
            },
            "type": "scatter3d"
           }
          ],
          "scattercarpet": [
           {
            "marker": {
             "colorbar": {
              "outlinewidth": 0,
              "ticks": ""
             }
            },
            "type": "scattercarpet"
           }
          ],
          "scattergeo": [
           {
            "marker": {
             "colorbar": {
              "outlinewidth": 0,
              "ticks": ""
             }
            },
            "type": "scattergeo"
           }
          ],
          "scattergl": [
           {
            "marker": {
             "colorbar": {
              "outlinewidth": 0,
              "ticks": ""
             }
            },
            "type": "scattergl"
           }
          ],
          "scattermapbox": [
           {
            "marker": {
             "colorbar": {
              "outlinewidth": 0,
              "ticks": ""
             }
            },
            "type": "scattermapbox"
           }
          ],
          "scatterpolar": [
           {
            "marker": {
             "colorbar": {
              "outlinewidth": 0,
              "ticks": ""
             }
            },
            "type": "scatterpolar"
           }
          ],
          "scatterpolargl": [
           {
            "marker": {
             "colorbar": {
              "outlinewidth": 0,
              "ticks": ""
             }
            },
            "type": "scatterpolargl"
           }
          ],
          "scatterternary": [
           {
            "marker": {
             "colorbar": {
              "outlinewidth": 0,
              "ticks": ""
             }
            },
            "type": "scatterternary"
           }
          ],
          "surface": [
           {
            "colorbar": {
             "outlinewidth": 0,
             "ticks": ""
            },
            "colorscale": [
             [
              0,
              "#0d0887"
             ],
             [
              0.1111111111111111,
              "#46039f"
             ],
             [
              0.2222222222222222,
              "#7201a8"
             ],
             [
              0.3333333333333333,
              "#9c179e"
             ],
             [
              0.4444444444444444,
              "#bd3786"
             ],
             [
              0.5555555555555556,
              "#d8576b"
             ],
             [
              0.6666666666666666,
              "#ed7953"
             ],
             [
              0.7777777777777778,
              "#fb9f3a"
             ],
             [
              0.8888888888888888,
              "#fdca26"
             ],
             [
              1,
              "#f0f921"
             ]
            ],
            "type": "surface"
           }
          ],
          "table": [
           {
            "cells": {
             "fill": {
              "color": "#EBF0F8"
             },
             "line": {
              "color": "white"
             }
            },
            "header": {
             "fill": {
              "color": "#C8D4E3"
             },
             "line": {
              "color": "white"
             }
            },
            "type": "table"
           }
          ]
         },
         "layout": {
          "annotationdefaults": {
           "arrowcolor": "#2a3f5f",
           "arrowhead": 0,
           "arrowwidth": 1
          },
          "coloraxis": {
           "colorbar": {
            "outlinewidth": 0,
            "ticks": ""
           }
          },
          "colorscale": {
           "diverging": [
            [
             0,
             "#8e0152"
            ],
            [
             0.1,
             "#c51b7d"
            ],
            [
             0.2,
             "#de77ae"
            ],
            [
             0.3,
             "#f1b6da"
            ],
            [
             0.4,
             "#fde0ef"
            ],
            [
             0.5,
             "#f7f7f7"
            ],
            [
             0.6,
             "#e6f5d0"
            ],
            [
             0.7,
             "#b8e186"
            ],
            [
             0.8,
             "#7fbc41"
            ],
            [
             0.9,
             "#4d9221"
            ],
            [
             1,
             "#276419"
            ]
           ],
           "sequential": [
            [
             0,
             "#0d0887"
            ],
            [
             0.1111111111111111,
             "#46039f"
            ],
            [
             0.2222222222222222,
             "#7201a8"
            ],
            [
             0.3333333333333333,
             "#9c179e"
            ],
            [
             0.4444444444444444,
             "#bd3786"
            ],
            [
             0.5555555555555556,
             "#d8576b"
            ],
            [
             0.6666666666666666,
             "#ed7953"
            ],
            [
             0.7777777777777778,
             "#fb9f3a"
            ],
            [
             0.8888888888888888,
             "#fdca26"
            ],
            [
             1,
             "#f0f921"
            ]
           ],
           "sequentialminus": [
            [
             0,
             "#0d0887"
            ],
            [
             0.1111111111111111,
             "#46039f"
            ],
            [
             0.2222222222222222,
             "#7201a8"
            ],
            [
             0.3333333333333333,
             "#9c179e"
            ],
            [
             0.4444444444444444,
             "#bd3786"
            ],
            [
             0.5555555555555556,
             "#d8576b"
            ],
            [
             0.6666666666666666,
             "#ed7953"
            ],
            [
             0.7777777777777778,
             "#fb9f3a"
            ],
            [
             0.8888888888888888,
             "#fdca26"
            ],
            [
             1,
             "#f0f921"
            ]
           ]
          },
          "colorway": [
           "#636efa",
           "#EF553B",
           "#00cc96",
           "#ab63fa",
           "#FFA15A",
           "#19d3f3",
           "#FF6692",
           "#B6E880",
           "#FF97FF",
           "#FECB52"
          ],
          "font": {
           "color": "#2a3f5f"
          },
          "geo": {
           "bgcolor": "white",
           "lakecolor": "white",
           "landcolor": "#E5ECF6",
           "showlakes": true,
           "showland": true,
           "subunitcolor": "white"
          },
          "hoverlabel": {
           "align": "left"
          },
          "hovermode": "closest",
          "mapbox": {
           "style": "light"
          },
          "paper_bgcolor": "white",
          "plot_bgcolor": "#E5ECF6",
          "polar": {
           "angularaxis": {
            "gridcolor": "white",
            "linecolor": "white",
            "ticks": ""
           },
           "bgcolor": "#E5ECF6",
           "radialaxis": {
            "gridcolor": "white",
            "linecolor": "white",
            "ticks": ""
           }
          },
          "scene": {
           "xaxis": {
            "backgroundcolor": "#E5ECF6",
            "gridcolor": "white",
            "gridwidth": 2,
            "linecolor": "white",
            "showbackground": true,
            "ticks": "",
            "zerolinecolor": "white"
           },
           "yaxis": {
            "backgroundcolor": "#E5ECF6",
            "gridcolor": "white",
            "gridwidth": 2,
            "linecolor": "white",
            "showbackground": true,
            "ticks": "",
            "zerolinecolor": "white"
           },
           "zaxis": {
            "backgroundcolor": "#E5ECF6",
            "gridcolor": "white",
            "gridwidth": 2,
            "linecolor": "white",
            "showbackground": true,
            "ticks": "",
            "zerolinecolor": "white"
           }
          },
          "shapedefaults": {
           "line": {
            "color": "#2a3f5f"
           }
          },
          "ternary": {
           "aaxis": {
            "gridcolor": "white",
            "linecolor": "white",
            "ticks": ""
           },
           "baxis": {
            "gridcolor": "white",
            "linecolor": "white",
            "ticks": ""
           },
           "bgcolor": "#E5ECF6",
           "caxis": {
            "gridcolor": "white",
            "linecolor": "white",
            "ticks": ""
           }
          },
          "title": {
           "x": 0.05
          },
          "xaxis": {
           "automargin": true,
           "gridcolor": "white",
           "linecolor": "white",
           "ticks": "",
           "title": {
            "standoff": 15
           },
           "zerolinecolor": "white",
           "zerolinewidth": 2
          },
          "yaxis": {
           "automargin": true,
           "gridcolor": "white",
           "linecolor": "white",
           "ticks": "",
           "title": {
            "standoff": 15
           },
           "zerolinecolor": "white",
           "zerolinewidth": 2
          }
         }
        },
        "title": {
         "text": "RATE by YEAR"
        },
        "xaxis": {
         "anchor": "y",
         "color": "blue",
         "domain": [
          0,
          1
         ],
         "tickangle": 60,
         "title": {
          "text": "YEAR"
         }
        },
        "yaxis": {
         "anchor": "x",
         "domain": [
          0,
          1
         ],
         "title": {
          "text": "RATE"
         }
        }
       }
      },
      "text/html": [
       "<div>\n",
       "        \n",
       "        \n",
       "            <div id=\"d3065fc6-5f55-44ba-a075-03675c78b21e\" class=\"plotly-graph-div\" style=\"height:525px; width:100%;\"></div>\n",
       "            <script type=\"text/javascript\">\n",
       "                require([\"plotly\"], function(Plotly) {\n",
       "                    window.PLOTLYENV=window.PLOTLYENV || {};\n",
       "                    \n",
       "                if (document.getElementById(\"d3065fc6-5f55-44ba-a075-03675c78b21e\")) {\n",
       "                    Plotly.newPlot(\n",
       "                        'd3065fc6-5f55-44ba-a075-03675c78b21e',\n",
       "                        [{\"alignmentgroup\": \"True\", \"hovertemplate\": \"YEAR=%{x}<br>RATE=%{marker.color}<extra></extra>\", \"legendgroup\": \"\", \"marker\": {\"color\": [21.8, 21.0, 15.3, 18.9, 7.5, 15.2, 4.9, 11.6, 12.9, 15.7, 4.0, 16.6, 10.9, 14.7, 8.7, 14.8, 16.9, 21.4, 10.3, 11.7, 3.5, 12.9, 7.8, 22.9, 21.5, 17.3, 9.0, 17.9, 10.8, 4.8, 20.7, 4.1, 13.3, 11.5, 13.1, 16.8, 11.7, 12.5, 3.3, 17.6, 13.6, 17.8, 12.2, 13.2, 12.8, 11.8, 10.4, 18.2, 10.1, 21.5, 22.9, 24.5, 15.8, 20.3, 7.9, 13.4, 5.1, 11.7, 12.4, 15.4, 2.5, 16.4, 12.1, 15.3, 9.0, 16.0, 16.2, 21.7, 11.7, 12.3, 3.7, 11.3, 8.2, 21.5, 21.5, 22.5, 8.3, 16.7, 10.4, 5.3, 18.5, 3.7, 13.7, 13.2, 13.7, 17.2, 12.1, 12.5, 3.9, 17.7, 11.9, 18.4, 12.4, 14.0, 11.7, 11.9, 11.1, 18.6, 10.6, 18.8, 21.5, 23.3, 15.2, 17.8, 7.9, 14.3, 4.6, 11.0, 12.6, 15.0, 4.5, 14.6, 11.7, 15.0, 9.2, 13.4, 17.5, 21.3, 8.3, 11.9, 3.4, 12.3, 7.6, 19.9, 19.0, 18.9, 9.1, 16.8, 9.3, 5.5, 18.1, 4.4, 13.7, 11.9, 12.9, 19.6, 11.9, 12.0, 4.1, 17.7, 13.4, 17.1, 12.1, 12.9, 11.1, 12.1, 9.0, 17.5, 11.4, 17.4, 19.6, 23.4, 13.8, 16.9, 7.7, 12.6, 5.3, 12.1, 12.0, 14.1, 3.6, 14.7, 9.5, 12.7, 7.8, 11.4, 15.2, 20.4, 9.8, 11.9, 3.0, 11.7, 7.4, 19.6, 18.1, 19.2, 8.9, 14.9, 8.9, 5.4, 18.6, 4.2, 12.5, 12.8, 11.9, 18.0, 11.4, 11.4, 4.7, 17.3, 11.1, 16.0, 11.7, 12.8, 9.6, 10.9, 9.8, 14.0, 10.4, 19.6, 16.9, 19.2, 13.5, 16.6, 7.4, 12.2, 5.0, 11.1, 11.5, 13.7, 2.6, 13.2, 9.0, 12.4, 7.5, 11.3, 13.9, 19.0, 9.4, 9.0, 3.2, 11.1, 6.6, 18.3, 15.3, 16.1, 9.5, 14.8, 8.7, 5.3, 16.0, 4.2, 11.8, 12.3, 10.3, 15.7, 11.7, 10.5, 3.0, 15.5, 10.3, 15.1, 10.7, 12.3, 10.3, 10.3, 9.7, 14.6, 8.2, 16.2, 16.0, 17.5, 16.1, 15.7, 9.5, 11.6, 5.3, 8.8, 10.0, 12.1, 2.1, 14.1, 8.0, 11.2, 6.7, 9.3, 13.0, 18.5, 7.8, 11.9, 3.4, 10.8, 7.0, 16.0, 12.9, 16.9, 7.7, 16.1, 6.6, 5.2, 13.9, 5.3, 12.8, 8.8, 9.6, 13.2, 10.7, 10.8, 3.6, 13.8, 10.2, 16.0, 11.1, 10.1, 6.8, 11.5, 8.8, 13.8, 8.5, 13.4, null], \"coloraxis\": \"coloraxis\"}, \"name\": \"\", \"offsetgroup\": \"\", \"orientation\": \"v\", \"showlegend\": false, \"textposition\": \"auto\", \"type\": \"bar\", \"x\": [\"2018.0\", \"2018.0\", \"2018.0\", \"2018.0\", \"2018.0\", \"2018.0\", \"2018.0\", \"2018.0\", \"2018.0\", \"2018.0\", \"2018.0\", \"2018.0\", \"2018.0\", \"2018.0\", \"2018.0\", \"2018.0\", \"2018.0\", \"2018.0\", \"2018.0\", \"2018.0\", \"2018.0\", \"2018.0\", \"2018.0\", \"2018.0\", \"2018.0\", \"2018.0\", \"2018.0\", \"2018.0\", \"2018.0\", \"2018.0\", \"2018.0\", \"2018.0\", \"2018.0\", \"2018.0\", \"2018.0\", \"2018.0\", \"2018.0\", \"2018.0\", \"2018.0\", \"2018.0\", \"2018.0\", \"2018.0\", \"2018.0\", \"2018.0\", \"2018.0\", \"2018.0\", \"2018.0\", \"2018.0\", \"2018.0\", \"2018.0\", \"2017.0\", \"2017.0\", \"2017.0\", \"2017.0\", \"2017.0\", \"2017.0\", \"2017.0\", \"2017.0\", \"2017.0\", \"2017.0\", \"2017.0\", \"2017.0\", \"2017.0\", \"2017.0\", \"2017.0\", \"2017.0\", \"2017.0\", \"2017.0\", \"2017.0\", \"2017.0\", \"2017.0\", \"2017.0\", \"2017.0\", \"2017.0\", \"2017.0\", \"2017.0\", \"2017.0\", \"2017.0\", \"2017.0\", \"2017.0\", \"2017.0\", \"2017.0\", \"2017.0\", \"2017.0\", \"2017.0\", \"2017.0\", \"2017.0\", \"2017.0\", \"2017.0\", \"2017.0\", \"2017.0\", \"2017.0\", \"2017.0\", \"2017.0\", \"2017.0\", \"2017.0\", \"2017.0\", \"2017.0\", \"2017.0\", \"2017.0\", \"2016.0\", \"2016.0\", \"2016.0\", \"2016.0\", \"2016.0\", \"2016.0\", \"2016.0\", \"2016.0\", \"2016.0\", \"2016.0\", \"2016.0\", \"2016.0\", \"2016.0\", \"2016.0\", \"2016.0\", \"2016.0\", \"2016.0\", \"2016.0\", \"2016.0\", \"2016.0\", \"2016.0\", \"2016.0\", \"2016.0\", \"2016.0\", \"2016.0\", \"2016.0\", \"2016.0\", \"2016.0\", \"2016.0\", \"2016.0\", \"2016.0\", \"2016.0\", \"2016.0\", \"2016.0\", \"2016.0\", \"2016.0\", \"2016.0\", \"2016.0\", \"2016.0\", \"2016.0\", \"2016.0\", \"2016.0\", \"2016.0\", \"2016.0\", \"2016.0\", \"2016.0\", \"2016.0\", \"2016.0\", \"2016.0\", \"2016.0\", \"2015.0\", \"2015.0\", \"2015.0\", \"2015.0\", \"2015.0\", \"2015.0\", \"2015.0\", \"2015.0\", \"2015.0\", \"2015.0\", \"2015.0\", \"2015.0\", \"2015.0\", \"2015.0\", \"2015.0\", \"2015.0\", \"2015.0\", \"2015.0\", \"2015.0\", \"2015.0\", \"2015.0\", \"2015.0\", \"2015.0\", \"2015.0\", \"2015.0\", \"2015.0\", \"2015.0\", \"2015.0\", \"2015.0\", \"2015.0\", \"2015.0\", \"2015.0\", \"2015.0\", \"2015.0\", \"2015.0\", \"2015.0\", \"2015.0\", \"2015.0\", \"2015.0\", \"2015.0\", \"2015.0\", \"2015.0\", \"2015.0\", \"2015.0\", \"2015.0\", \"2015.0\", \"2015.0\", \"2015.0\", \"2015.0\", \"2015.0\", \"2014.0\", \"2014.0\", \"2014.0\", \"2014.0\", \"2014.0\", \"2014.0\", \"2014.0\", \"2014.0\", \"2014.0\", \"2014.0\", \"2014.0\", \"2014.0\", \"2014.0\", \"2014.0\", \"2014.0\", \"2014.0\", \"2014.0\", \"2014.0\", \"2014.0\", \"2014.0\", \"2014.0\", \"2014.0\", \"2014.0\", \"2014.0\", \"2014.0\", \"2014.0\", \"2014.0\", \"2014.0\", \"2014.0\", \"2014.0\", \"2014.0\", \"2014.0\", \"2014.0\", \"2014.0\", \"2014.0\", \"2014.0\", \"2014.0\", \"2014.0\", \"2014.0\", \"2014.0\", \"2014.0\", \"2014.0\", \"2014.0\", \"2014.0\", \"2014.0\", \"2014.0\", \"2014.0\", \"2014.0\", \"2014.0\", \"2014.0\", \"2005.0\", \"2005.0\", \"2005.0\", \"2005.0\", \"2005.0\", \"2005.0\", \"2005.0\", \"2005.0\", \"2005.0\", \"2005.0\", \"2005.0\", \"2005.0\", \"2005.0\", \"2005.0\", \"2005.0\", \"2005.0\", \"2005.0\", \"2005.0\", \"2005.0\", \"2005.0\", \"2005.0\", \"2005.0\", \"2005.0\", \"2005.0\", \"2005.0\", \"2005.0\", \"2005.0\", \"2005.0\", \"2005.0\", \"2005.0\", \"2005.0\", \"2005.0\", \"2005.0\", \"2005.0\", \"2005.0\", \"2005.0\", \"2005.0\", \"2005.0\", \"2005.0\", \"2005.0\", \"2005.0\", \"2005.0\", \"2005.0\", \"2005.0\", \"2005.0\", \"2005.0\", \"2005.0\", \"2005.0\", \"2005.0\", \"2005.0\", \"nan\"], \"xaxis\": \"x\", \"y\": [21.8, 21.0, 15.3, 18.9, 7.5, 15.2, 4.9, 11.6, 12.9, 15.7, 4.0, 16.6, 10.9, 14.7, 8.7, 14.8, 16.9, 21.4, 10.3, 11.7, 3.5, 12.9, 7.8, 22.9, 21.5, 17.3, 9.0, 17.9, 10.8, 4.8, 20.7, 4.1, 13.3, 11.5, 13.1, 16.8, 11.7, 12.5, 3.3, 17.6, 13.6, 17.8, 12.2, 13.2, 12.8, 11.8, 10.4, 18.2, 10.1, 21.5, 22.9, 24.5, 15.8, 20.3, 7.9, 13.4, 5.1, 11.7, 12.4, 15.4, 2.5, 16.4, 12.1, 15.3, 9.0, 16.0, 16.2, 21.7, 11.7, 12.3, 3.7, 11.3, 8.2, 21.5, 21.5, 22.5, 8.3, 16.7, 10.4, 5.3, 18.5, 3.7, 13.7, 13.2, 13.7, 17.2, 12.1, 12.5, 3.9, 17.7, 11.9, 18.4, 12.4, 14.0, 11.7, 11.9, 11.1, 18.6, 10.6, 18.8, 21.5, 23.3, 15.2, 17.8, 7.9, 14.3, 4.6, 11.0, 12.6, 15.0, 4.5, 14.6, 11.7, 15.0, 9.2, 13.4, 17.5, 21.3, 8.3, 11.9, 3.4, 12.3, 7.6, 19.9, 19.0, 18.9, 9.1, 16.8, 9.3, 5.5, 18.1, 4.4, 13.7, 11.9, 12.9, 19.6, 11.9, 12.0, 4.1, 17.7, 13.4, 17.1, 12.1, 12.9, 11.1, 12.1, 9.0, 17.5, 11.4, 17.4, 19.6, 23.4, 13.8, 16.9, 7.7, 12.6, 5.3, 12.1, 12.0, 14.1, 3.6, 14.7, 9.5, 12.7, 7.8, 11.4, 15.2, 20.4, 9.8, 11.9, 3.0, 11.7, 7.4, 19.6, 18.1, 19.2, 8.9, 14.9, 8.9, 5.4, 18.6, 4.2, 12.5, 12.8, 11.9, 18.0, 11.4, 11.4, 4.7, 17.3, 11.1, 16.0, 11.7, 12.8, 9.6, 10.9, 9.8, 14.0, 10.4, 19.6, 16.9, 19.2, 13.5, 16.6, 7.4, 12.2, 5.0, 11.1, 11.5, 13.7, 2.6, 13.2, 9.0, 12.4, 7.5, 11.3, 13.9, 19.0, 9.4, 9.0, 3.2, 11.1, 6.6, 18.3, 15.3, 16.1, 9.5, 14.8, 8.7, 5.3, 16.0, 4.2, 11.8, 12.3, 10.3, 15.7, 11.7, 10.5, 3.0, 15.5, 10.3, 15.1, 10.7, 12.3, 10.3, 10.3, 9.7, 14.6, 8.2, 16.2, 16.0, 17.5, 16.1, 15.7, 9.5, 11.6, 5.3, 8.8, 10.0, 12.1, 2.1, 14.1, 8.0, 11.2, 6.7, 9.3, 13.0, 18.5, 7.8, 11.9, 3.4, 10.8, 7.0, 16.0, 12.9, 16.9, 7.7, 16.1, 6.6, 5.2, 13.9, 5.3, 12.8, 8.8, 9.6, 13.2, 10.7, 10.8, 3.6, 13.8, 10.2, 16.0, 11.1, 10.1, 6.8, 11.5, 8.8, 13.8, 8.5, 13.4, null], \"yaxis\": \"y\"}],\n",
       "                        {\"barmode\": \"relative\", \"coloraxis\": {\"colorbar\": {\"title\": {\"text\": \"RATE\"}}, \"colorscale\": [[0.0, \"#0d0887\"], [0.1111111111111111, \"#46039f\"], [0.2222222222222222, \"#7201a8\"], [0.3333333333333333, \"#9c179e\"], [0.4444444444444444, \"#bd3786\"], [0.5555555555555556, \"#d8576b\"], [0.6666666666666666, \"#ed7953\"], [0.7777777777777778, \"#fb9f3a\"], [0.8888888888888888, \"#fdca26\"], [1.0, \"#f0f921\"]]}, \"legend\": {\"tracegroupgap\": 0}, \"template\": {\"data\": {\"bar\": [{\"error_x\": {\"color\": \"#2a3f5f\"}, \"error_y\": {\"color\": \"#2a3f5f\"}, \"marker\": {\"line\": {\"color\": \"#E5ECF6\", \"width\": 0.5}}, \"type\": \"bar\"}], \"barpolar\": [{\"marker\": {\"line\": {\"color\": \"#E5ECF6\", \"width\": 0.5}}, \"type\": \"barpolar\"}], \"carpet\": [{\"aaxis\": {\"endlinecolor\": \"#2a3f5f\", \"gridcolor\": \"white\", \"linecolor\": \"white\", \"minorgridcolor\": \"white\", \"startlinecolor\": \"#2a3f5f\"}, \"baxis\": {\"endlinecolor\": \"#2a3f5f\", \"gridcolor\": \"white\", \"linecolor\": \"white\", \"minorgridcolor\": \"white\", \"startlinecolor\": \"#2a3f5f\"}, \"type\": \"carpet\"}], \"choropleth\": [{\"colorbar\": {\"outlinewidth\": 0, \"ticks\": \"\"}, \"type\": \"choropleth\"}], \"contour\": [{\"colorbar\": {\"outlinewidth\": 0, \"ticks\": \"\"}, \"colorscale\": [[0.0, \"#0d0887\"], [0.1111111111111111, \"#46039f\"], [0.2222222222222222, \"#7201a8\"], [0.3333333333333333, \"#9c179e\"], [0.4444444444444444, \"#bd3786\"], [0.5555555555555556, \"#d8576b\"], [0.6666666666666666, \"#ed7953\"], [0.7777777777777778, \"#fb9f3a\"], [0.8888888888888888, \"#fdca26\"], [1.0, \"#f0f921\"]], \"type\": \"contour\"}], \"contourcarpet\": [{\"colorbar\": {\"outlinewidth\": 0, \"ticks\": \"\"}, \"type\": \"contourcarpet\"}], \"heatmap\": [{\"colorbar\": {\"outlinewidth\": 0, \"ticks\": \"\"}, \"colorscale\": [[0.0, \"#0d0887\"], [0.1111111111111111, \"#46039f\"], [0.2222222222222222, \"#7201a8\"], [0.3333333333333333, \"#9c179e\"], [0.4444444444444444, \"#bd3786\"], [0.5555555555555556, \"#d8576b\"], [0.6666666666666666, \"#ed7953\"], [0.7777777777777778, \"#fb9f3a\"], [0.8888888888888888, \"#fdca26\"], [1.0, \"#f0f921\"]], \"type\": \"heatmap\"}], \"heatmapgl\": [{\"colorbar\": {\"outlinewidth\": 0, \"ticks\": \"\"}, \"colorscale\": [[0.0, \"#0d0887\"], [0.1111111111111111, \"#46039f\"], [0.2222222222222222, \"#7201a8\"], [0.3333333333333333, \"#9c179e\"], [0.4444444444444444, \"#bd3786\"], [0.5555555555555556, \"#d8576b\"], [0.6666666666666666, \"#ed7953\"], [0.7777777777777778, \"#fb9f3a\"], [0.8888888888888888, \"#fdca26\"], [1.0, \"#f0f921\"]], \"type\": \"heatmapgl\"}], \"histogram\": [{\"marker\": {\"colorbar\": {\"outlinewidth\": 0, \"ticks\": \"\"}}, \"type\": \"histogram\"}], \"histogram2d\": [{\"colorbar\": {\"outlinewidth\": 0, \"ticks\": \"\"}, \"colorscale\": [[0.0, \"#0d0887\"], [0.1111111111111111, \"#46039f\"], [0.2222222222222222, \"#7201a8\"], [0.3333333333333333, \"#9c179e\"], [0.4444444444444444, \"#bd3786\"], [0.5555555555555556, \"#d8576b\"], [0.6666666666666666, \"#ed7953\"], [0.7777777777777778, \"#fb9f3a\"], [0.8888888888888888, \"#fdca26\"], [1.0, \"#f0f921\"]], \"type\": \"histogram2d\"}], \"histogram2dcontour\": [{\"colorbar\": {\"outlinewidth\": 0, \"ticks\": \"\"}, \"colorscale\": [[0.0, \"#0d0887\"], [0.1111111111111111, \"#46039f\"], [0.2222222222222222, \"#7201a8\"], [0.3333333333333333, \"#9c179e\"], [0.4444444444444444, \"#bd3786\"], [0.5555555555555556, \"#d8576b\"], [0.6666666666666666, \"#ed7953\"], [0.7777777777777778, \"#fb9f3a\"], [0.8888888888888888, \"#fdca26\"], [1.0, \"#f0f921\"]], \"type\": \"histogram2dcontour\"}], \"mesh3d\": [{\"colorbar\": {\"outlinewidth\": 0, \"ticks\": \"\"}, \"type\": \"mesh3d\"}], \"parcoords\": [{\"line\": {\"colorbar\": {\"outlinewidth\": 0, \"ticks\": \"\"}}, \"type\": \"parcoords\"}], \"pie\": [{\"automargin\": true, \"type\": \"pie\"}], \"scatter\": [{\"marker\": {\"colorbar\": {\"outlinewidth\": 0, \"ticks\": \"\"}}, \"type\": \"scatter\"}], \"scatter3d\": [{\"line\": {\"colorbar\": {\"outlinewidth\": 0, \"ticks\": \"\"}}, \"marker\": {\"colorbar\": {\"outlinewidth\": 0, \"ticks\": \"\"}}, \"type\": \"scatter3d\"}], \"scattercarpet\": [{\"marker\": {\"colorbar\": {\"outlinewidth\": 0, \"ticks\": \"\"}}, \"type\": \"scattercarpet\"}], \"scattergeo\": [{\"marker\": {\"colorbar\": {\"outlinewidth\": 0, \"ticks\": \"\"}}, \"type\": \"scattergeo\"}], \"scattergl\": [{\"marker\": {\"colorbar\": {\"outlinewidth\": 0, \"ticks\": \"\"}}, \"type\": \"scattergl\"}], \"scattermapbox\": [{\"marker\": {\"colorbar\": {\"outlinewidth\": 0, \"ticks\": \"\"}}, \"type\": \"scattermapbox\"}], \"scatterpolar\": [{\"marker\": {\"colorbar\": {\"outlinewidth\": 0, \"ticks\": \"\"}}, \"type\": \"scatterpolar\"}], \"scatterpolargl\": [{\"marker\": {\"colorbar\": {\"outlinewidth\": 0, \"ticks\": \"\"}}, \"type\": \"scatterpolargl\"}], \"scatterternary\": [{\"marker\": {\"colorbar\": {\"outlinewidth\": 0, \"ticks\": \"\"}}, \"type\": \"scatterternary\"}], \"surface\": [{\"colorbar\": {\"outlinewidth\": 0, \"ticks\": \"\"}, \"colorscale\": [[0.0, \"#0d0887\"], [0.1111111111111111, \"#46039f\"], [0.2222222222222222, \"#7201a8\"], [0.3333333333333333, \"#9c179e\"], [0.4444444444444444, \"#bd3786\"], [0.5555555555555556, \"#d8576b\"], [0.6666666666666666, \"#ed7953\"], [0.7777777777777778, \"#fb9f3a\"], [0.8888888888888888, \"#fdca26\"], [1.0, \"#f0f921\"]], \"type\": \"surface\"}], \"table\": [{\"cells\": {\"fill\": {\"color\": \"#EBF0F8\"}, \"line\": {\"color\": \"white\"}}, \"header\": {\"fill\": {\"color\": \"#C8D4E3\"}, \"line\": {\"color\": \"white\"}}, \"type\": \"table\"}]}, \"layout\": {\"annotationdefaults\": {\"arrowcolor\": \"#2a3f5f\", \"arrowhead\": 0, \"arrowwidth\": 1}, \"coloraxis\": {\"colorbar\": {\"outlinewidth\": 0, \"ticks\": \"\"}}, \"colorscale\": {\"diverging\": [[0, \"#8e0152\"], [0.1, \"#c51b7d\"], [0.2, \"#de77ae\"], [0.3, \"#f1b6da\"], [0.4, \"#fde0ef\"], [0.5, \"#f7f7f7\"], [0.6, \"#e6f5d0\"], [0.7, \"#b8e186\"], [0.8, \"#7fbc41\"], [0.9, \"#4d9221\"], [1, \"#276419\"]], \"sequential\": [[0.0, \"#0d0887\"], [0.1111111111111111, \"#46039f\"], [0.2222222222222222, \"#7201a8\"], [0.3333333333333333, \"#9c179e\"], [0.4444444444444444, \"#bd3786\"], [0.5555555555555556, \"#d8576b\"], [0.6666666666666666, \"#ed7953\"], [0.7777777777777778, \"#fb9f3a\"], [0.8888888888888888, \"#fdca26\"], [1.0, \"#f0f921\"]], \"sequentialminus\": [[0.0, \"#0d0887\"], [0.1111111111111111, \"#46039f\"], [0.2222222222222222, \"#7201a8\"], [0.3333333333333333, \"#9c179e\"], [0.4444444444444444, \"#bd3786\"], [0.5555555555555556, \"#d8576b\"], [0.6666666666666666, \"#ed7953\"], [0.7777777777777778, \"#fb9f3a\"], [0.8888888888888888, \"#fdca26\"], [1.0, \"#f0f921\"]]}, \"colorway\": [\"#636efa\", \"#EF553B\", \"#00cc96\", \"#ab63fa\", \"#FFA15A\", \"#19d3f3\", \"#FF6692\", \"#B6E880\", \"#FF97FF\", \"#FECB52\"], \"font\": {\"color\": \"#2a3f5f\"}, \"geo\": {\"bgcolor\": \"white\", \"lakecolor\": \"white\", \"landcolor\": \"#E5ECF6\", \"showlakes\": true, \"showland\": true, \"subunitcolor\": \"white\"}, \"hoverlabel\": {\"align\": \"left\"}, \"hovermode\": \"closest\", \"mapbox\": {\"style\": \"light\"}, \"paper_bgcolor\": \"white\", \"plot_bgcolor\": \"#E5ECF6\", \"polar\": {\"angularaxis\": {\"gridcolor\": \"white\", \"linecolor\": \"white\", \"ticks\": \"\"}, \"bgcolor\": \"#E5ECF6\", \"radialaxis\": {\"gridcolor\": \"white\", \"linecolor\": \"white\", \"ticks\": \"\"}}, \"scene\": {\"xaxis\": {\"backgroundcolor\": \"#E5ECF6\", \"gridcolor\": \"white\", \"gridwidth\": 2, \"linecolor\": \"white\", \"showbackground\": true, \"ticks\": \"\", \"zerolinecolor\": \"white\"}, \"yaxis\": {\"backgroundcolor\": \"#E5ECF6\", \"gridcolor\": \"white\", \"gridwidth\": 2, \"linecolor\": \"white\", \"showbackground\": true, \"ticks\": \"\", \"zerolinecolor\": \"white\"}, \"zaxis\": {\"backgroundcolor\": \"#E5ECF6\", \"gridcolor\": \"white\", \"gridwidth\": 2, \"linecolor\": \"white\", \"showbackground\": true, \"ticks\": \"\", \"zerolinecolor\": \"white\"}}, \"shapedefaults\": {\"line\": {\"color\": \"#2a3f5f\"}}, \"ternary\": {\"aaxis\": {\"gridcolor\": \"white\", \"linecolor\": \"white\", \"ticks\": \"\"}, \"baxis\": {\"gridcolor\": \"white\", \"linecolor\": \"white\", \"ticks\": \"\"}, \"bgcolor\": \"#E5ECF6\", \"caxis\": {\"gridcolor\": \"white\", \"linecolor\": \"white\", \"ticks\": \"\"}}, \"title\": {\"x\": 0.05}, \"xaxis\": {\"automargin\": true, \"gridcolor\": \"white\", \"linecolor\": \"white\", \"ticks\": \"\", \"title\": {\"standoff\": 15}, \"zerolinecolor\": \"white\", \"zerolinewidth\": 2}, \"yaxis\": {\"automargin\": true, \"gridcolor\": \"white\", \"linecolor\": \"white\", \"ticks\": \"\", \"title\": {\"standoff\": 15}, \"zerolinecolor\": \"white\", \"zerolinewidth\": 2}}}, \"title\": {\"text\": \"RATE by YEAR\"}, \"xaxis\": {\"anchor\": \"y\", \"color\": \"blue\", \"domain\": [0.0, 1.0], \"tickangle\": 60, \"title\": {\"text\": \"YEAR\"}}, \"yaxis\": {\"anchor\": \"x\", \"domain\": [0.0, 1.0], \"title\": {\"text\": \"RATE\"}}},\n",
       "                        {\"responsive\": true}\n",
       "                    ).then(function(){\n",
       "                            \n",
       "var gd = document.getElementById('d3065fc6-5f55-44ba-a075-03675c78b21e');\n",
       "var x = new MutationObserver(function (mutations, observer) {{\n",
       "        var display = window.getComputedStyle(gd).display;\n",
       "        if (!display || display === 'none') {{\n",
       "            console.log([gd, 'removed!']);\n",
       "            Plotly.purge(gd);\n",
       "            observer.disconnect();\n",
       "        }}\n",
       "}});\n",
       "\n",
       "// Listen for the removal of the full notebook cells\n",
       "var notebookContainer = gd.closest('#notebook-container');\n",
       "if (notebookContainer) {{\n",
       "    x.observe(notebookContainer, {childList: true});\n",
       "}}\n",
       "\n",
       "// Listen for the clearing of the current output cell\n",
       "var outputEl = gd.closest('.output');\n",
       "if (outputEl) {{\n",
       "    x.observe(outputEl, {childList: true});\n",
       "}}\n",
       "\n",
       "                        })\n",
       "                };\n",
       "                });\n",
       "            </script>\n",
       "        </div>"
      ]
     },
     "metadata": {},
     "output_type": "display_data"
    }
   ],
   "source": [
    "plt= px.bar(Df, x=\"YEAR\", y=\"RATE\",title=\"RATE by YEAR\",color=\"RATE\")\n",
    "plt.update_xaxes(tickangle=60, color='blue')\n",
    "plt.show()"
   ]
  },
  {
   "cell_type": "markdown",
   "metadata": {
    "colab_type": "text",
    "id": "5h2WujKOnUve"
   },
   "source": [
    "### Remarks:\n",
    "* From above we can see a constant incease in the number of deaths due to firearms from 2005 through 2018.\n",
    "* There is a slight drop from in deaths from 2017 to 2018 by  58 deaths. "
   ]
  },
  {
   "cell_type": "code",
   "execution_count": 184,
   "metadata": {
    "colab": {
     "base_uri": "https://localhost:8080/",
     "height": 52
    },
    "colab_type": "code",
    "id": "q-ng9sQmfi2g",
    "outputId": "06f78c63-a58a-471a-d88b-1d34d5257087"
   },
   "outputs": [
    {
     "data": {
      "text/plain": [
       "array(['2018.0', '2017.0', '2016.0', '2015.0', '2014.0', '2005.0', 'nan'],\n",
       "      dtype=object)"
      ]
     },
     "execution_count": 184,
     "metadata": {},
     "output_type": "execute_result"
    }
   ],
   "source": [
    "# Investigating the years in our dataset.\n",
    "Df[\"YEAR\"].unique()"
   ]
  },
  {
   "cell_type": "code",
   "execution_count": 185,
   "metadata": {
    "colab": {
     "base_uri": "https://localhost:8080/",
     "height": 355
    },
    "colab_type": "code",
    "id": "iXhrmHe7f5s5",
    "outputId": "aa09c857-69ba-489e-943f-99d9d27d9afb"
   },
   "outputs": [
    {
     "data": {
      "text/html": [
       "<div>\n",
       "<style scoped>\n",
       "    .dataframe tbody tr th:only-of-type {\n",
       "        vertical-align: middle;\n",
       "    }\n",
       "\n",
       "    .dataframe tbody tr th {\n",
       "        vertical-align: top;\n",
       "    }\n",
       "\n",
       "    .dataframe thead th {\n",
       "        text-align: right;\n",
       "    }\n",
       "</style>\n",
       "<table border=\"1\" class=\"dataframe\">\n",
       "  <thead>\n",
       "    <tr style=\"text-align: right;\">\n",
       "      <th></th>\n",
       "      <th>STATE</th>\n",
       "      <th>DEATHS</th>\n",
       "      <th>RATE</th>\n",
       "    </tr>\n",
       "  </thead>\n",
       "  <tbody>\n",
       "    <tr>\n",
       "      <td>0</td>\n",
       "      <td>AK</td>\n",
       "      <td>158.333333</td>\n",
       "      <td>21.483333</td>\n",
       "    </tr>\n",
       "    <tr>\n",
       "      <td>1</td>\n",
       "      <td>AL</td>\n",
       "      <td>957.166667</td>\n",
       "      <td>19.783333</td>\n",
       "    </tr>\n",
       "    <tr>\n",
       "      <td>2</td>\n",
       "      <td>AR</td>\n",
       "      <td>530.333333</td>\n",
       "      <td>17.700000</td>\n",
       "    </tr>\n",
       "    <tr>\n",
       "      <td>3</td>\n",
       "      <td>AZ</td>\n",
       "      <td>1034.333333</td>\n",
       "      <td>14.950000</td>\n",
       "    </tr>\n",
       "    <tr>\n",
       "      <td>4</td>\n",
       "      <td>CA</td>\n",
       "      <td>3149.666667</td>\n",
       "      <td>7.983333</td>\n",
       "    </tr>\n",
       "    <tr>\n",
       "      <td>5</td>\n",
       "      <td>CO</td>\n",
       "      <td>729.833333</td>\n",
       "      <td>13.216667</td>\n",
       "    </tr>\n",
       "    <tr>\n",
       "      <td>6</td>\n",
       "      <td>CT</td>\n",
       "      <td>184.833333</td>\n",
       "      <td>5.033333</td>\n",
       "    </tr>\n",
       "    <tr>\n",
       "      <td>7</td>\n",
       "      <td>DE</td>\n",
       "      <td>103.000000</td>\n",
       "      <td>11.050000</td>\n",
       "    </tr>\n",
       "    <tr>\n",
       "      <td>8</td>\n",
       "      <td>FL</td>\n",
       "      <td>2522.833333</td>\n",
       "      <td>11.900000</td>\n",
       "    </tr>\n",
       "    <tr>\n",
       "      <td>9</td>\n",
       "      <td>GA</td>\n",
       "      <td>1462.833333</td>\n",
       "      <td>14.333333</td>\n",
       "    </tr>\n",
       "  </tbody>\n",
       "</table>\n",
       "</div>"
      ],
      "text/plain": [
       "  STATE       DEATHS       RATE\n",
       "0    AK   158.333333  21.483333\n",
       "1    AL   957.166667  19.783333\n",
       "2    AR   530.333333  17.700000\n",
       "3    AZ  1034.333333  14.950000\n",
       "4    CA  3149.666667   7.983333\n",
       "5    CO   729.833333  13.216667\n",
       "6    CT   184.833333   5.033333\n",
       "7    DE   103.000000  11.050000\n",
       "8    FL  2522.833333  11.900000\n",
       "9    GA  1462.833333  14.333333"
      ]
     },
     "execution_count": 185,
     "metadata": {},
     "output_type": "execute_result"
    }
   ],
   "source": [
    "# Finding top 10 states with most number of deaths. \n",
    "D = Df.groupby('STATE',as_index=None).agg({\"DEATHS\":\"mean\",\"RATE\":\"mean\"})\n",
    "D.sort_values(\"DEATHS\", ascending= False)\n",
    "D.reset_index(drop=True,inplace=True)\n",
    "D.head(10)"
   ]
  },
  {
   "cell_type": "code",
   "execution_count": 186,
   "metadata": {
    "colab": {
     "base_uri": "https://localhost:8080/",
     "height": 355
    },
    "colab_type": "code",
    "id": "Ct14O7jBo0TK",
    "outputId": "bb0f129d-434e-4d54-8061-87b36d28ee82"
   },
   "outputs": [
    {
     "data": {
      "text/html": [
       "<div>\n",
       "<style scoped>\n",
       "    .dataframe tbody tr th:only-of-type {\n",
       "        vertical-align: middle;\n",
       "    }\n",
       "\n",
       "    .dataframe tbody tr th {\n",
       "        vertical-align: top;\n",
       "    }\n",
       "\n",
       "    .dataframe thead th {\n",
       "        text-align: right;\n",
       "    }\n",
       "</style>\n",
       "<table border=\"1\" class=\"dataframe\">\n",
       "  <thead>\n",
       "    <tr style=\"text-align: right;\">\n",
       "      <th></th>\n",
       "      <th>STATE</th>\n",
       "      <th>RATE</th>\n",
       "    </tr>\n",
       "  </thead>\n",
       "  <tbody>\n",
       "    <tr>\n",
       "      <td>0</td>\n",
       "      <td>AK</td>\n",
       "      <td>21.483333</td>\n",
       "    </tr>\n",
       "    <tr>\n",
       "      <td>1</td>\n",
       "      <td>AL</td>\n",
       "      <td>19.783333</td>\n",
       "    </tr>\n",
       "    <tr>\n",
       "      <td>2</td>\n",
       "      <td>AR</td>\n",
       "      <td>17.700000</td>\n",
       "    </tr>\n",
       "    <tr>\n",
       "      <td>3</td>\n",
       "      <td>AZ</td>\n",
       "      <td>14.950000</td>\n",
       "    </tr>\n",
       "    <tr>\n",
       "      <td>4</td>\n",
       "      <td>CA</td>\n",
       "      <td>7.983333</td>\n",
       "    </tr>\n",
       "    <tr>\n",
       "      <td>5</td>\n",
       "      <td>CO</td>\n",
       "      <td>13.216667</td>\n",
       "    </tr>\n",
       "    <tr>\n",
       "      <td>6</td>\n",
       "      <td>CT</td>\n",
       "      <td>5.033333</td>\n",
       "    </tr>\n",
       "    <tr>\n",
       "      <td>7</td>\n",
       "      <td>DE</td>\n",
       "      <td>11.050000</td>\n",
       "    </tr>\n",
       "    <tr>\n",
       "      <td>8</td>\n",
       "      <td>FL</td>\n",
       "      <td>11.900000</td>\n",
       "    </tr>\n",
       "    <tr>\n",
       "      <td>9</td>\n",
       "      <td>GA</td>\n",
       "      <td>14.333333</td>\n",
       "    </tr>\n",
       "  </tbody>\n",
       "</table>\n",
       "</div>"
      ],
      "text/plain": [
       "  STATE       RATE\n",
       "0    AK  21.483333\n",
       "1    AL  19.783333\n",
       "2    AR  17.700000\n",
       "3    AZ  14.950000\n",
       "4    CA   7.983333\n",
       "5    CO  13.216667\n",
       "6    CT   5.033333\n",
       "7    DE  11.050000\n",
       "8    FL  11.900000\n",
       "9    GA  14.333333"
      ]
     },
     "execution_count": 186,
     "metadata": {},
     "output_type": "execute_result"
    }
   ],
   "source": [
    " # Finding top 10 states that recorded highest death rates.\n",
    "D = Df.groupby('STATE',as_index=None).agg({\"RATE\":\"mean\"})\n",
    "D.sort_values(\"RATE\", ascending= False)\n",
    "D.reset_index(drop=True, inplace=True)\n",
    "D.head(10)"
   ]
  },
  {
   "cell_type": "markdown",
   "metadata": {},
   "source": [
    "### Bar Plot Display of Death Rate by State."
   ]
  },
  {
   "cell_type": "code",
   "execution_count": 187,
   "metadata": {},
   "outputs": [
    {
     "data": {
      "application/vnd.plotly.v1+json": {
       "config": {
        "plotlyServerURL": "https://plot.ly"
       },
       "data": [
        {
         "alignmentgroup": "True",
         "hovertemplate": "STATE=%{x}<br>RATE=%{text}<extra></extra>",
         "legendgroup": "",
         "marker": {
          "color": "#636efa"
         },
         "name": "",
         "offsetgroup": "",
         "orientation": "v",
         "showlegend": false,
         "text": [
          21.48333333333333,
          19.783333333333335,
          17.7,
          14.949999999999998,
          7.983333333333333,
          13.216666666666667,
          5.033333333333333,
          11.049999999999999,
          11.9,
          14.333333333333334,
          3.216666666666667,
          8.15,
          14.933333333333332,
          10.200000000000001,
          13.550000000000002,
          12.700000000000001,
          15.450000000000001,
          20.38333333333333,
          3.3666666666666667,
          11.450000000000001,
          9.549999999999999,
          11.683333333333335,
          7.433333333333334,
          18.05,
          19.7,
          18.483333333333334,
          12.966666666666667,
          11.75,
          8.75,
          9.116666666666669,
          5.25,
          17.633333333333336,
          16.2,
          4.316666666666666,
          11.916666666666664,
          16.75,
          11.583333333333334,
          11.616666666666667,
          3.766666666666667,
          16.599999999999998,
          11.75,
          16.733333333333334,
          11.700000000000001,
          12.549999999999999,
          11.416666666666666,
          10.383333333333333,
          9.799999999999999,
          9.866666666666667,
          16.116666666666664,
          17.816666666666666
         ],
         "textposition": "outside",
         "texttemplate": "%{text:.2s}",
         "type": "bar",
         "x": [
          "AK",
          "AL",
          "AR",
          "AZ",
          "CA",
          "CO",
          "CT",
          "DE",
          "FL",
          "GA",
          "HI",
          "IA",
          "ID",
          "IL",
          "IN",
          "KS",
          "KY",
          "LA",
          "MA",
          "MD",
          "ME",
          "MI",
          "MN",
          "MO",
          "MS",
          "MT",
          "NC",
          "ND",
          "NE",
          "NH",
          "NJ",
          "NM",
          "NV",
          "NY",
          "OH",
          "OK",
          "OR",
          "PA",
          "RI",
          "SC",
          "SD",
          "TN",
          "TX",
          "UT",
          "VA",
          "VT",
          "WA",
          "WI",
          "WV",
          "WY"
         ],
         "xaxis": "x",
         "y": [
          21.48333333333333,
          19.783333333333335,
          17.7,
          14.949999999999998,
          7.983333333333333,
          13.216666666666667,
          5.033333333333333,
          11.049999999999999,
          11.9,
          14.333333333333334,
          3.216666666666667,
          8.15,
          14.933333333333332,
          10.200000000000001,
          13.550000000000002,
          12.700000000000001,
          15.450000000000001,
          20.38333333333333,
          3.3666666666666667,
          11.450000000000001,
          9.549999999999999,
          11.683333333333335,
          7.433333333333334,
          18.05,
          19.7,
          18.483333333333334,
          12.966666666666667,
          11.75,
          8.75,
          9.116666666666669,
          5.25,
          17.633333333333336,
          16.2,
          4.316666666666666,
          11.916666666666664,
          16.75,
          11.583333333333334,
          11.616666666666667,
          3.766666666666667,
          16.599999999999998,
          11.75,
          16.733333333333334,
          11.700000000000001,
          12.549999999999999,
          11.416666666666666,
          10.383333333333333,
          9.799999999999999,
          9.866666666666667,
          16.116666666666664,
          17.816666666666666
         ],
         "yaxis": "y"
        }
       ],
       "layout": {
        "barmode": "relative",
        "legend": {
         "tracegroupgap": 0
        },
        "template": {
         "data": {
          "bar": [
           {
            "error_x": {
             "color": "#2a3f5f"
            },
            "error_y": {
             "color": "#2a3f5f"
            },
            "marker": {
             "line": {
              "color": "#E5ECF6",
              "width": 0.5
             }
            },
            "type": "bar"
           }
          ],
          "barpolar": [
           {
            "marker": {
             "line": {
              "color": "#E5ECF6",
              "width": 0.5
             }
            },
            "type": "barpolar"
           }
          ],
          "carpet": [
           {
            "aaxis": {
             "endlinecolor": "#2a3f5f",
             "gridcolor": "white",
             "linecolor": "white",
             "minorgridcolor": "white",
             "startlinecolor": "#2a3f5f"
            },
            "baxis": {
             "endlinecolor": "#2a3f5f",
             "gridcolor": "white",
             "linecolor": "white",
             "minorgridcolor": "white",
             "startlinecolor": "#2a3f5f"
            },
            "type": "carpet"
           }
          ],
          "choropleth": [
           {
            "colorbar": {
             "outlinewidth": 0,
             "ticks": ""
            },
            "type": "choropleth"
           }
          ],
          "contour": [
           {
            "colorbar": {
             "outlinewidth": 0,
             "ticks": ""
            },
            "colorscale": [
             [
              0,
              "#0d0887"
             ],
             [
              0.1111111111111111,
              "#46039f"
             ],
             [
              0.2222222222222222,
              "#7201a8"
             ],
             [
              0.3333333333333333,
              "#9c179e"
             ],
             [
              0.4444444444444444,
              "#bd3786"
             ],
             [
              0.5555555555555556,
              "#d8576b"
             ],
             [
              0.6666666666666666,
              "#ed7953"
             ],
             [
              0.7777777777777778,
              "#fb9f3a"
             ],
             [
              0.8888888888888888,
              "#fdca26"
             ],
             [
              1,
              "#f0f921"
             ]
            ],
            "type": "contour"
           }
          ],
          "contourcarpet": [
           {
            "colorbar": {
             "outlinewidth": 0,
             "ticks": ""
            },
            "type": "contourcarpet"
           }
          ],
          "heatmap": [
           {
            "colorbar": {
             "outlinewidth": 0,
             "ticks": ""
            },
            "colorscale": [
             [
              0,
              "#0d0887"
             ],
             [
              0.1111111111111111,
              "#46039f"
             ],
             [
              0.2222222222222222,
              "#7201a8"
             ],
             [
              0.3333333333333333,
              "#9c179e"
             ],
             [
              0.4444444444444444,
              "#bd3786"
             ],
             [
              0.5555555555555556,
              "#d8576b"
             ],
             [
              0.6666666666666666,
              "#ed7953"
             ],
             [
              0.7777777777777778,
              "#fb9f3a"
             ],
             [
              0.8888888888888888,
              "#fdca26"
             ],
             [
              1,
              "#f0f921"
             ]
            ],
            "type": "heatmap"
           }
          ],
          "heatmapgl": [
           {
            "colorbar": {
             "outlinewidth": 0,
             "ticks": ""
            },
            "colorscale": [
             [
              0,
              "#0d0887"
             ],
             [
              0.1111111111111111,
              "#46039f"
             ],
             [
              0.2222222222222222,
              "#7201a8"
             ],
             [
              0.3333333333333333,
              "#9c179e"
             ],
             [
              0.4444444444444444,
              "#bd3786"
             ],
             [
              0.5555555555555556,
              "#d8576b"
             ],
             [
              0.6666666666666666,
              "#ed7953"
             ],
             [
              0.7777777777777778,
              "#fb9f3a"
             ],
             [
              0.8888888888888888,
              "#fdca26"
             ],
             [
              1,
              "#f0f921"
             ]
            ],
            "type": "heatmapgl"
           }
          ],
          "histogram": [
           {
            "marker": {
             "colorbar": {
              "outlinewidth": 0,
              "ticks": ""
             }
            },
            "type": "histogram"
           }
          ],
          "histogram2d": [
           {
            "colorbar": {
             "outlinewidth": 0,
             "ticks": ""
            },
            "colorscale": [
             [
              0,
              "#0d0887"
             ],
             [
              0.1111111111111111,
              "#46039f"
             ],
             [
              0.2222222222222222,
              "#7201a8"
             ],
             [
              0.3333333333333333,
              "#9c179e"
             ],
             [
              0.4444444444444444,
              "#bd3786"
             ],
             [
              0.5555555555555556,
              "#d8576b"
             ],
             [
              0.6666666666666666,
              "#ed7953"
             ],
             [
              0.7777777777777778,
              "#fb9f3a"
             ],
             [
              0.8888888888888888,
              "#fdca26"
             ],
             [
              1,
              "#f0f921"
             ]
            ],
            "type": "histogram2d"
           }
          ],
          "histogram2dcontour": [
           {
            "colorbar": {
             "outlinewidth": 0,
             "ticks": ""
            },
            "colorscale": [
             [
              0,
              "#0d0887"
             ],
             [
              0.1111111111111111,
              "#46039f"
             ],
             [
              0.2222222222222222,
              "#7201a8"
             ],
             [
              0.3333333333333333,
              "#9c179e"
             ],
             [
              0.4444444444444444,
              "#bd3786"
             ],
             [
              0.5555555555555556,
              "#d8576b"
             ],
             [
              0.6666666666666666,
              "#ed7953"
             ],
             [
              0.7777777777777778,
              "#fb9f3a"
             ],
             [
              0.8888888888888888,
              "#fdca26"
             ],
             [
              1,
              "#f0f921"
             ]
            ],
            "type": "histogram2dcontour"
           }
          ],
          "mesh3d": [
           {
            "colorbar": {
             "outlinewidth": 0,
             "ticks": ""
            },
            "type": "mesh3d"
           }
          ],
          "parcoords": [
           {
            "line": {
             "colorbar": {
              "outlinewidth": 0,
              "ticks": ""
             }
            },
            "type": "parcoords"
           }
          ],
          "pie": [
           {
            "automargin": true,
            "type": "pie"
           }
          ],
          "scatter": [
           {
            "marker": {
             "colorbar": {
              "outlinewidth": 0,
              "ticks": ""
             }
            },
            "type": "scatter"
           }
          ],
          "scatter3d": [
           {
            "line": {
             "colorbar": {
              "outlinewidth": 0,
              "ticks": ""
             }
            },
            "marker": {
             "colorbar": {
              "outlinewidth": 0,
              "ticks": ""
             }
            },
            "type": "scatter3d"
           }
          ],
          "scattercarpet": [
           {
            "marker": {
             "colorbar": {
              "outlinewidth": 0,
              "ticks": ""
             }
            },
            "type": "scattercarpet"
           }
          ],
          "scattergeo": [
           {
            "marker": {
             "colorbar": {
              "outlinewidth": 0,
              "ticks": ""
             }
            },
            "type": "scattergeo"
           }
          ],
          "scattergl": [
           {
            "marker": {
             "colorbar": {
              "outlinewidth": 0,
              "ticks": ""
             }
            },
            "type": "scattergl"
           }
          ],
          "scattermapbox": [
           {
            "marker": {
             "colorbar": {
              "outlinewidth": 0,
              "ticks": ""
             }
            },
            "type": "scattermapbox"
           }
          ],
          "scatterpolar": [
           {
            "marker": {
             "colorbar": {
              "outlinewidth": 0,
              "ticks": ""
             }
            },
            "type": "scatterpolar"
           }
          ],
          "scatterpolargl": [
           {
            "marker": {
             "colorbar": {
              "outlinewidth": 0,
              "ticks": ""
             }
            },
            "type": "scatterpolargl"
           }
          ],
          "scatterternary": [
           {
            "marker": {
             "colorbar": {
              "outlinewidth": 0,
              "ticks": ""
             }
            },
            "type": "scatterternary"
           }
          ],
          "surface": [
           {
            "colorbar": {
             "outlinewidth": 0,
             "ticks": ""
            },
            "colorscale": [
             [
              0,
              "#0d0887"
             ],
             [
              0.1111111111111111,
              "#46039f"
             ],
             [
              0.2222222222222222,
              "#7201a8"
             ],
             [
              0.3333333333333333,
              "#9c179e"
             ],
             [
              0.4444444444444444,
              "#bd3786"
             ],
             [
              0.5555555555555556,
              "#d8576b"
             ],
             [
              0.6666666666666666,
              "#ed7953"
             ],
             [
              0.7777777777777778,
              "#fb9f3a"
             ],
             [
              0.8888888888888888,
              "#fdca26"
             ],
             [
              1,
              "#f0f921"
             ]
            ],
            "type": "surface"
           }
          ],
          "table": [
           {
            "cells": {
             "fill": {
              "color": "#EBF0F8"
             },
             "line": {
              "color": "white"
             }
            },
            "header": {
             "fill": {
              "color": "#C8D4E3"
             },
             "line": {
              "color": "white"
             }
            },
            "type": "table"
           }
          ]
         },
         "layout": {
          "annotationdefaults": {
           "arrowcolor": "#2a3f5f",
           "arrowhead": 0,
           "arrowwidth": 1
          },
          "coloraxis": {
           "colorbar": {
            "outlinewidth": 0,
            "ticks": ""
           }
          },
          "colorscale": {
           "diverging": [
            [
             0,
             "#8e0152"
            ],
            [
             0.1,
             "#c51b7d"
            ],
            [
             0.2,
             "#de77ae"
            ],
            [
             0.3,
             "#f1b6da"
            ],
            [
             0.4,
             "#fde0ef"
            ],
            [
             0.5,
             "#f7f7f7"
            ],
            [
             0.6,
             "#e6f5d0"
            ],
            [
             0.7,
             "#b8e186"
            ],
            [
             0.8,
             "#7fbc41"
            ],
            [
             0.9,
             "#4d9221"
            ],
            [
             1,
             "#276419"
            ]
           ],
           "sequential": [
            [
             0,
             "#0d0887"
            ],
            [
             0.1111111111111111,
             "#46039f"
            ],
            [
             0.2222222222222222,
             "#7201a8"
            ],
            [
             0.3333333333333333,
             "#9c179e"
            ],
            [
             0.4444444444444444,
             "#bd3786"
            ],
            [
             0.5555555555555556,
             "#d8576b"
            ],
            [
             0.6666666666666666,
             "#ed7953"
            ],
            [
             0.7777777777777778,
             "#fb9f3a"
            ],
            [
             0.8888888888888888,
             "#fdca26"
            ],
            [
             1,
             "#f0f921"
            ]
           ],
           "sequentialminus": [
            [
             0,
             "#0d0887"
            ],
            [
             0.1111111111111111,
             "#46039f"
            ],
            [
             0.2222222222222222,
             "#7201a8"
            ],
            [
             0.3333333333333333,
             "#9c179e"
            ],
            [
             0.4444444444444444,
             "#bd3786"
            ],
            [
             0.5555555555555556,
             "#d8576b"
            ],
            [
             0.6666666666666666,
             "#ed7953"
            ],
            [
             0.7777777777777778,
             "#fb9f3a"
            ],
            [
             0.8888888888888888,
             "#fdca26"
            ],
            [
             1,
             "#f0f921"
            ]
           ]
          },
          "colorway": [
           "#636efa",
           "#EF553B",
           "#00cc96",
           "#ab63fa",
           "#FFA15A",
           "#19d3f3",
           "#FF6692",
           "#B6E880",
           "#FF97FF",
           "#FECB52"
          ],
          "font": {
           "color": "#2a3f5f"
          },
          "geo": {
           "bgcolor": "white",
           "lakecolor": "white",
           "landcolor": "#E5ECF6",
           "showlakes": true,
           "showland": true,
           "subunitcolor": "white"
          },
          "hoverlabel": {
           "align": "left"
          },
          "hovermode": "closest",
          "mapbox": {
           "style": "light"
          },
          "paper_bgcolor": "white",
          "plot_bgcolor": "#E5ECF6",
          "polar": {
           "angularaxis": {
            "gridcolor": "white",
            "linecolor": "white",
            "ticks": ""
           },
           "bgcolor": "#E5ECF6",
           "radialaxis": {
            "gridcolor": "white",
            "linecolor": "white",
            "ticks": ""
           }
          },
          "scene": {
           "xaxis": {
            "backgroundcolor": "#E5ECF6",
            "gridcolor": "white",
            "gridwidth": 2,
            "linecolor": "white",
            "showbackground": true,
            "ticks": "",
            "zerolinecolor": "white"
           },
           "yaxis": {
            "backgroundcolor": "#E5ECF6",
            "gridcolor": "white",
            "gridwidth": 2,
            "linecolor": "white",
            "showbackground": true,
            "ticks": "",
            "zerolinecolor": "white"
           },
           "zaxis": {
            "backgroundcolor": "#E5ECF6",
            "gridcolor": "white",
            "gridwidth": 2,
            "linecolor": "white",
            "showbackground": true,
            "ticks": "",
            "zerolinecolor": "white"
           }
          },
          "shapedefaults": {
           "line": {
            "color": "#2a3f5f"
           }
          },
          "ternary": {
           "aaxis": {
            "gridcolor": "white",
            "linecolor": "white",
            "ticks": ""
           },
           "baxis": {
            "gridcolor": "white",
            "linecolor": "white",
            "ticks": ""
           },
           "bgcolor": "#E5ECF6",
           "caxis": {
            "gridcolor": "white",
            "linecolor": "white",
            "ticks": ""
           }
          },
          "title": {
           "x": 0.05
          },
          "xaxis": {
           "automargin": true,
           "gridcolor": "white",
           "linecolor": "white",
           "ticks": "",
           "title": {
            "standoff": 15
           },
           "zerolinecolor": "white",
           "zerolinewidth": 2
          },
          "yaxis": {
           "automargin": true,
           "gridcolor": "white",
           "linecolor": "white",
           "ticks": "",
           "title": {
            "standoff": 15
           },
           "zerolinecolor": "white",
           "zerolinewidth": 2
          }
         }
        },
        "title": {
         "text": "Deaths Rate by State"
        },
        "uniformtext": {
         "minsize": 8,
         "mode": "hide"
        },
        "xaxis": {
         "anchor": "y",
         "color": "#FF28E8",
         "domain": [
          0,
          1
         ],
         "tickangle": 60,
         "title": {
          "text": "STATE"
         }
        },
        "yaxis": {
         "anchor": "x",
         "domain": [
          0,
          1
         ],
         "title": {
          "text": "RATE"
         }
        }
       }
      },
      "text/html": [
       "<div>\n",
       "        \n",
       "        \n",
       "            <div id=\"160bf1e0-a87f-4ce1-9cac-90e8b9994f9c\" class=\"plotly-graph-div\" style=\"height:525px; width:100%;\"></div>\n",
       "            <script type=\"text/javascript\">\n",
       "                require([\"plotly\"], function(Plotly) {\n",
       "                    window.PLOTLYENV=window.PLOTLYENV || {};\n",
       "                    \n",
       "                if (document.getElementById(\"160bf1e0-a87f-4ce1-9cac-90e8b9994f9c\")) {\n",
       "                    Plotly.newPlot(\n",
       "                        '160bf1e0-a87f-4ce1-9cac-90e8b9994f9c',\n",
       "                        [{\"alignmentgroup\": \"True\", \"hovertemplate\": \"STATE=%{x}<br>RATE=%{text}<extra></extra>\", \"legendgroup\": \"\", \"marker\": {\"color\": \"#636efa\"}, \"name\": \"\", \"offsetgroup\": \"\", \"orientation\": \"v\", \"showlegend\": false, \"text\": [21.48333333333333, 19.783333333333335, 17.7, 14.949999999999998, 7.983333333333333, 13.216666666666667, 5.033333333333333, 11.049999999999999, 11.9, 14.333333333333334, 3.216666666666667, 8.15, 14.933333333333332, 10.200000000000001, 13.550000000000002, 12.700000000000001, 15.450000000000001, 20.38333333333333, 3.3666666666666667, 11.450000000000001, 9.549999999999999, 11.683333333333335, 7.433333333333334, 18.05, 19.7, 18.483333333333334, 12.966666666666667, 11.75, 8.75, 9.116666666666669, 5.25, 17.633333333333336, 16.2, 4.316666666666666, 11.916666666666664, 16.75, 11.583333333333334, 11.616666666666667, 3.766666666666667, 16.599999999999998, 11.75, 16.733333333333334, 11.700000000000001, 12.549999999999999, 11.416666666666666, 10.383333333333333, 9.799999999999999, 9.866666666666667, 16.116666666666664, 17.816666666666666], \"textposition\": \"outside\", \"texttemplate\": \"%{text:.2s}\", \"type\": \"bar\", \"x\": [\"AK\", \"AL\", \"AR\", \"AZ\", \"CA\", \"CO\", \"CT\", \"DE\", \"FL\", \"GA\", \"HI\", \"IA\", \"ID\", \"IL\", \"IN\", \"KS\", \"KY\", \"LA\", \"MA\", \"MD\", \"ME\", \"MI\", \"MN\", \"MO\", \"MS\", \"MT\", \"NC\", \"ND\", \"NE\", \"NH\", \"NJ\", \"NM\", \"NV\", \"NY\", \"OH\", \"OK\", \"OR\", \"PA\", \"RI\", \"SC\", \"SD\", \"TN\", \"TX\", \"UT\", \"VA\", \"VT\", \"WA\", \"WI\", \"WV\", \"WY\"], \"xaxis\": \"x\", \"y\": [21.48333333333333, 19.783333333333335, 17.7, 14.949999999999998, 7.983333333333333, 13.216666666666667, 5.033333333333333, 11.049999999999999, 11.9, 14.333333333333334, 3.216666666666667, 8.15, 14.933333333333332, 10.200000000000001, 13.550000000000002, 12.700000000000001, 15.450000000000001, 20.38333333333333, 3.3666666666666667, 11.450000000000001, 9.549999999999999, 11.683333333333335, 7.433333333333334, 18.05, 19.7, 18.483333333333334, 12.966666666666667, 11.75, 8.75, 9.116666666666669, 5.25, 17.633333333333336, 16.2, 4.316666666666666, 11.916666666666664, 16.75, 11.583333333333334, 11.616666666666667, 3.766666666666667, 16.599999999999998, 11.75, 16.733333333333334, 11.700000000000001, 12.549999999999999, 11.416666666666666, 10.383333333333333, 9.799999999999999, 9.866666666666667, 16.116666666666664, 17.816666666666666], \"yaxis\": \"y\"}],\n",
       "                        {\"barmode\": \"relative\", \"legend\": {\"tracegroupgap\": 0}, \"template\": {\"data\": {\"bar\": [{\"error_x\": {\"color\": \"#2a3f5f\"}, \"error_y\": {\"color\": \"#2a3f5f\"}, \"marker\": {\"line\": {\"color\": \"#E5ECF6\", \"width\": 0.5}}, \"type\": \"bar\"}], \"barpolar\": [{\"marker\": {\"line\": {\"color\": \"#E5ECF6\", \"width\": 0.5}}, \"type\": \"barpolar\"}], \"carpet\": [{\"aaxis\": {\"endlinecolor\": \"#2a3f5f\", \"gridcolor\": \"white\", \"linecolor\": \"white\", \"minorgridcolor\": \"white\", \"startlinecolor\": \"#2a3f5f\"}, \"baxis\": {\"endlinecolor\": \"#2a3f5f\", \"gridcolor\": \"white\", \"linecolor\": \"white\", \"minorgridcolor\": \"white\", \"startlinecolor\": \"#2a3f5f\"}, \"type\": \"carpet\"}], \"choropleth\": [{\"colorbar\": {\"outlinewidth\": 0, \"ticks\": \"\"}, \"type\": \"choropleth\"}], \"contour\": [{\"colorbar\": {\"outlinewidth\": 0, \"ticks\": \"\"}, \"colorscale\": [[0.0, \"#0d0887\"], [0.1111111111111111, \"#46039f\"], [0.2222222222222222, \"#7201a8\"], [0.3333333333333333, \"#9c179e\"], [0.4444444444444444, \"#bd3786\"], [0.5555555555555556, \"#d8576b\"], [0.6666666666666666, \"#ed7953\"], [0.7777777777777778, \"#fb9f3a\"], [0.8888888888888888, \"#fdca26\"], [1.0, \"#f0f921\"]], \"type\": \"contour\"}], \"contourcarpet\": [{\"colorbar\": {\"outlinewidth\": 0, \"ticks\": \"\"}, \"type\": \"contourcarpet\"}], \"heatmap\": [{\"colorbar\": {\"outlinewidth\": 0, \"ticks\": \"\"}, \"colorscale\": [[0.0, \"#0d0887\"], [0.1111111111111111, \"#46039f\"], [0.2222222222222222, \"#7201a8\"], [0.3333333333333333, \"#9c179e\"], [0.4444444444444444, \"#bd3786\"], [0.5555555555555556, \"#d8576b\"], [0.6666666666666666, \"#ed7953\"], [0.7777777777777778, \"#fb9f3a\"], [0.8888888888888888, \"#fdca26\"], [1.0, \"#f0f921\"]], \"type\": \"heatmap\"}], \"heatmapgl\": [{\"colorbar\": {\"outlinewidth\": 0, \"ticks\": \"\"}, \"colorscale\": [[0.0, \"#0d0887\"], [0.1111111111111111, \"#46039f\"], [0.2222222222222222, \"#7201a8\"], [0.3333333333333333, \"#9c179e\"], [0.4444444444444444, \"#bd3786\"], [0.5555555555555556, \"#d8576b\"], [0.6666666666666666, \"#ed7953\"], [0.7777777777777778, \"#fb9f3a\"], [0.8888888888888888, \"#fdca26\"], [1.0, \"#f0f921\"]], \"type\": \"heatmapgl\"}], \"histogram\": [{\"marker\": {\"colorbar\": {\"outlinewidth\": 0, \"ticks\": \"\"}}, \"type\": \"histogram\"}], \"histogram2d\": [{\"colorbar\": {\"outlinewidth\": 0, \"ticks\": \"\"}, \"colorscale\": [[0.0, \"#0d0887\"], [0.1111111111111111, \"#46039f\"], [0.2222222222222222, \"#7201a8\"], [0.3333333333333333, \"#9c179e\"], [0.4444444444444444, \"#bd3786\"], [0.5555555555555556, \"#d8576b\"], [0.6666666666666666, \"#ed7953\"], [0.7777777777777778, \"#fb9f3a\"], [0.8888888888888888, \"#fdca26\"], [1.0, \"#f0f921\"]], \"type\": \"histogram2d\"}], \"histogram2dcontour\": [{\"colorbar\": {\"outlinewidth\": 0, \"ticks\": \"\"}, \"colorscale\": [[0.0, \"#0d0887\"], [0.1111111111111111, \"#46039f\"], [0.2222222222222222, \"#7201a8\"], [0.3333333333333333, \"#9c179e\"], [0.4444444444444444, \"#bd3786\"], [0.5555555555555556, \"#d8576b\"], [0.6666666666666666, \"#ed7953\"], [0.7777777777777778, \"#fb9f3a\"], [0.8888888888888888, \"#fdca26\"], [1.0, \"#f0f921\"]], \"type\": \"histogram2dcontour\"}], \"mesh3d\": [{\"colorbar\": {\"outlinewidth\": 0, \"ticks\": \"\"}, \"type\": \"mesh3d\"}], \"parcoords\": [{\"line\": {\"colorbar\": {\"outlinewidth\": 0, \"ticks\": \"\"}}, \"type\": \"parcoords\"}], \"pie\": [{\"automargin\": true, \"type\": \"pie\"}], \"scatter\": [{\"marker\": {\"colorbar\": {\"outlinewidth\": 0, \"ticks\": \"\"}}, \"type\": \"scatter\"}], \"scatter3d\": [{\"line\": {\"colorbar\": {\"outlinewidth\": 0, \"ticks\": \"\"}}, \"marker\": {\"colorbar\": {\"outlinewidth\": 0, \"ticks\": \"\"}}, \"type\": \"scatter3d\"}], \"scattercarpet\": [{\"marker\": {\"colorbar\": {\"outlinewidth\": 0, \"ticks\": \"\"}}, \"type\": \"scattercarpet\"}], \"scattergeo\": [{\"marker\": {\"colorbar\": {\"outlinewidth\": 0, \"ticks\": \"\"}}, \"type\": \"scattergeo\"}], \"scattergl\": [{\"marker\": {\"colorbar\": {\"outlinewidth\": 0, \"ticks\": \"\"}}, \"type\": \"scattergl\"}], \"scattermapbox\": [{\"marker\": {\"colorbar\": {\"outlinewidth\": 0, \"ticks\": \"\"}}, \"type\": \"scattermapbox\"}], \"scatterpolar\": [{\"marker\": {\"colorbar\": {\"outlinewidth\": 0, \"ticks\": \"\"}}, \"type\": \"scatterpolar\"}], \"scatterpolargl\": [{\"marker\": {\"colorbar\": {\"outlinewidth\": 0, \"ticks\": \"\"}}, \"type\": \"scatterpolargl\"}], \"scatterternary\": [{\"marker\": {\"colorbar\": {\"outlinewidth\": 0, \"ticks\": \"\"}}, \"type\": \"scatterternary\"}], \"surface\": [{\"colorbar\": {\"outlinewidth\": 0, \"ticks\": \"\"}, \"colorscale\": [[0.0, \"#0d0887\"], [0.1111111111111111, \"#46039f\"], [0.2222222222222222, \"#7201a8\"], [0.3333333333333333, \"#9c179e\"], [0.4444444444444444, \"#bd3786\"], [0.5555555555555556, \"#d8576b\"], [0.6666666666666666, \"#ed7953\"], [0.7777777777777778, \"#fb9f3a\"], [0.8888888888888888, \"#fdca26\"], [1.0, \"#f0f921\"]], \"type\": \"surface\"}], \"table\": [{\"cells\": {\"fill\": {\"color\": \"#EBF0F8\"}, \"line\": {\"color\": \"white\"}}, \"header\": {\"fill\": {\"color\": \"#C8D4E3\"}, \"line\": {\"color\": \"white\"}}, \"type\": \"table\"}]}, \"layout\": {\"annotationdefaults\": {\"arrowcolor\": \"#2a3f5f\", \"arrowhead\": 0, \"arrowwidth\": 1}, \"coloraxis\": {\"colorbar\": {\"outlinewidth\": 0, \"ticks\": \"\"}}, \"colorscale\": {\"diverging\": [[0, \"#8e0152\"], [0.1, \"#c51b7d\"], [0.2, \"#de77ae\"], [0.3, \"#f1b6da\"], [0.4, \"#fde0ef\"], [0.5, \"#f7f7f7\"], [0.6, \"#e6f5d0\"], [0.7, \"#b8e186\"], [0.8, \"#7fbc41\"], [0.9, \"#4d9221\"], [1, \"#276419\"]], \"sequential\": [[0.0, \"#0d0887\"], [0.1111111111111111, \"#46039f\"], [0.2222222222222222, \"#7201a8\"], [0.3333333333333333, \"#9c179e\"], [0.4444444444444444, \"#bd3786\"], [0.5555555555555556, \"#d8576b\"], [0.6666666666666666, \"#ed7953\"], [0.7777777777777778, \"#fb9f3a\"], [0.8888888888888888, \"#fdca26\"], [1.0, \"#f0f921\"]], \"sequentialminus\": [[0.0, \"#0d0887\"], [0.1111111111111111, \"#46039f\"], [0.2222222222222222, \"#7201a8\"], [0.3333333333333333, \"#9c179e\"], [0.4444444444444444, \"#bd3786\"], [0.5555555555555556, \"#d8576b\"], [0.6666666666666666, \"#ed7953\"], [0.7777777777777778, \"#fb9f3a\"], [0.8888888888888888, \"#fdca26\"], [1.0, \"#f0f921\"]]}, \"colorway\": [\"#636efa\", \"#EF553B\", \"#00cc96\", \"#ab63fa\", \"#FFA15A\", \"#19d3f3\", \"#FF6692\", \"#B6E880\", \"#FF97FF\", \"#FECB52\"], \"font\": {\"color\": \"#2a3f5f\"}, \"geo\": {\"bgcolor\": \"white\", \"lakecolor\": \"white\", \"landcolor\": \"#E5ECF6\", \"showlakes\": true, \"showland\": true, \"subunitcolor\": \"white\"}, \"hoverlabel\": {\"align\": \"left\"}, \"hovermode\": \"closest\", \"mapbox\": {\"style\": \"light\"}, \"paper_bgcolor\": \"white\", \"plot_bgcolor\": \"#E5ECF6\", \"polar\": {\"angularaxis\": {\"gridcolor\": \"white\", \"linecolor\": \"white\", \"ticks\": \"\"}, \"bgcolor\": \"#E5ECF6\", \"radialaxis\": {\"gridcolor\": \"white\", \"linecolor\": \"white\", \"ticks\": \"\"}}, \"scene\": {\"xaxis\": {\"backgroundcolor\": \"#E5ECF6\", \"gridcolor\": \"white\", \"gridwidth\": 2, \"linecolor\": \"white\", \"showbackground\": true, \"ticks\": \"\", \"zerolinecolor\": \"white\"}, \"yaxis\": {\"backgroundcolor\": \"#E5ECF6\", \"gridcolor\": \"white\", \"gridwidth\": 2, \"linecolor\": \"white\", \"showbackground\": true, \"ticks\": \"\", \"zerolinecolor\": \"white\"}, \"zaxis\": {\"backgroundcolor\": \"#E5ECF6\", \"gridcolor\": \"white\", \"gridwidth\": 2, \"linecolor\": \"white\", \"showbackground\": true, \"ticks\": \"\", \"zerolinecolor\": \"white\"}}, \"shapedefaults\": {\"line\": {\"color\": \"#2a3f5f\"}}, \"ternary\": {\"aaxis\": {\"gridcolor\": \"white\", \"linecolor\": \"white\", \"ticks\": \"\"}, \"baxis\": {\"gridcolor\": \"white\", \"linecolor\": \"white\", \"ticks\": \"\"}, \"bgcolor\": \"#E5ECF6\", \"caxis\": {\"gridcolor\": \"white\", \"linecolor\": \"white\", \"ticks\": \"\"}}, \"title\": {\"x\": 0.05}, \"xaxis\": {\"automargin\": true, \"gridcolor\": \"white\", \"linecolor\": \"white\", \"ticks\": \"\", \"title\": {\"standoff\": 15}, \"zerolinecolor\": \"white\", \"zerolinewidth\": 2}, \"yaxis\": {\"automargin\": true, \"gridcolor\": \"white\", \"linecolor\": \"white\", \"ticks\": \"\", \"title\": {\"standoff\": 15}, \"zerolinecolor\": \"white\", \"zerolinewidth\": 2}}}, \"title\": {\"text\": \"Deaths Rate by State\"}, \"uniformtext\": {\"minsize\": 8, \"mode\": \"hide\"}, \"xaxis\": {\"anchor\": \"y\", \"color\": \"#FF28E8\", \"domain\": [0.0, 1.0], \"tickangle\": 60, \"title\": {\"text\": \"STATE\"}}, \"yaxis\": {\"anchor\": \"x\", \"domain\": [0.0, 1.0], \"title\": {\"text\": \"RATE\"}}},\n",
       "                        {\"responsive\": true}\n",
       "                    ).then(function(){\n",
       "                            \n",
       "var gd = document.getElementById('160bf1e0-a87f-4ce1-9cac-90e8b9994f9c');\n",
       "var x = new MutationObserver(function (mutations, observer) {{\n",
       "        var display = window.getComputedStyle(gd).display;\n",
       "        if (!display || display === 'none') {{\n",
       "            console.log([gd, 'removed!']);\n",
       "            Plotly.purge(gd);\n",
       "            observer.disconnect();\n",
       "        }}\n",
       "}});\n",
       "\n",
       "// Listen for the removal of the full notebook cells\n",
       "var notebookContainer = gd.closest('#notebook-container');\n",
       "if (notebookContainer) {{\n",
       "    x.observe(notebookContainer, {childList: true});\n",
       "}}\n",
       "\n",
       "// Listen for the clearing of the current output cell\n",
       "var outputEl = gd.closest('.output');\n",
       "if (outputEl) {{\n",
       "    x.observe(outputEl, {childList: true});\n",
       "}}\n",
       "\n",
       "                        })\n",
       "                };\n",
       "                });\n",
       "            </script>\n",
       "        </div>"
      ]
     },
     "metadata": {},
     "output_type": "display_data"
    }
   ],
   "source": [
    "plt = px.bar(D, y='RATE', x='STATE', text='RATE',title=\"Deaths Rate by State\")\n",
    "plt.update_traces(texttemplate='%{text:.2s}', textposition='outside')\n",
    "plt.update_layout(uniformtext_minsize=8, uniformtext_mode='hide')\n",
    "plt.update_xaxes(tickangle=60, color='#FF28E8')\n",
    "plt.show()"
   ]
  },
  {
   "cell_type": "markdown",
   "metadata": {
    "colab_type": "text",
    "id": "lL2IvHLTpsqz"
   },
   "source": [
    "### **Remarks**:\n",
    "* Although **TX, CA, PA, FL, GA** redocrded the most number of deaths in available data, these values simply do take into consideration the States population.\n",
    "* Taking into consideration States population, states that recorded most deaths from firearms are: **Ak, LA, AL, MS, MT..** in that oder. This description gives a better respresentation since it take into account the population of the diferent states. **(ratio of deaths per 100,000 population)**."
   ]
  },
  {
   "cell_type": "code",
   "execution_count": 188,
   "metadata": {
    "colab": {
     "base_uri": "https://localhost:8080/",
     "height": 355
    },
    "colab_type": "code",
    "id": "TgQOjCVUiK14",
    "outputId": "0c633cf7-0ba8-4193-c86a-f7d6d07dfb71"
   },
   "outputs": [
    {
     "data": {
      "text/html": [
       "<div>\n",
       "<style scoped>\n",
       "    .dataframe tbody tr th:only-of-type {\n",
       "        vertical-align: middle;\n",
       "    }\n",
       "\n",
       "    .dataframe tbody tr th {\n",
       "        vertical-align: top;\n",
       "    }\n",
       "\n",
       "    .dataframe thead th {\n",
       "        text-align: right;\n",
       "    }\n",
       "</style>\n",
       "<table border=\"1\" class=\"dataframe\">\n",
       "  <thead>\n",
       "    <tr style=\"text-align: right;\">\n",
       "      <th></th>\n",
       "      <th>STATE</th>\n",
       "      <th>RATE</th>\n",
       "    </tr>\n",
       "  </thead>\n",
       "  <tbody>\n",
       "    <tr>\n",
       "      <td>40</td>\n",
       "      <td>SD</td>\n",
       "      <td>11.750000</td>\n",
       "    </tr>\n",
       "    <tr>\n",
       "      <td>41</td>\n",
       "      <td>TN</td>\n",
       "      <td>16.733333</td>\n",
       "    </tr>\n",
       "    <tr>\n",
       "      <td>42</td>\n",
       "      <td>TX</td>\n",
       "      <td>11.700000</td>\n",
       "    </tr>\n",
       "    <tr>\n",
       "      <td>43</td>\n",
       "      <td>UT</td>\n",
       "      <td>12.550000</td>\n",
       "    </tr>\n",
       "    <tr>\n",
       "      <td>44</td>\n",
       "      <td>VA</td>\n",
       "      <td>11.416667</td>\n",
       "    </tr>\n",
       "    <tr>\n",
       "      <td>45</td>\n",
       "      <td>VT</td>\n",
       "      <td>10.383333</td>\n",
       "    </tr>\n",
       "    <tr>\n",
       "      <td>46</td>\n",
       "      <td>WA</td>\n",
       "      <td>9.800000</td>\n",
       "    </tr>\n",
       "    <tr>\n",
       "      <td>47</td>\n",
       "      <td>WI</td>\n",
       "      <td>9.866667</td>\n",
       "    </tr>\n",
       "    <tr>\n",
       "      <td>48</td>\n",
       "      <td>WV</td>\n",
       "      <td>16.116667</td>\n",
       "    </tr>\n",
       "    <tr>\n",
       "      <td>49</td>\n",
       "      <td>WY</td>\n",
       "      <td>17.816667</td>\n",
       "    </tr>\n",
       "  </tbody>\n",
       "</table>\n",
       "</div>"
      ],
      "text/plain": [
       "   STATE       RATE\n",
       "40    SD  11.750000\n",
       "41    TN  16.733333\n",
       "42    TX  11.700000\n",
       "43    UT  12.550000\n",
       "44    VA  11.416667\n",
       "45    VT  10.383333\n",
       "46    WA   9.800000\n",
       "47    WI   9.866667\n",
       "48    WV  16.116667\n",
       "49    WY  17.816667"
      ]
     },
     "execution_count": 188,
     "metadata": {},
     "output_type": "execute_result"
    }
   ],
   "source": [
    "# Finding 10 states that recorded least number of death rates.\n",
    "D.sort_values(\"RATE\", ascending= False)\n",
    "D.reset_index(drop=True,inplace=True)\n",
    "D.tail(10)"
   ]
  },
  {
   "cell_type": "markdown",
   "metadata": {
    "colab_type": "text",
    "id": "i2cEAJD8vwY1"
   },
   "source": [
    "### **Remark**:\n",
    "* States that recoded least number of deaths in ratio to their population are **: HI, MA, RI, NY, CT, NJ, ...** in increasing order.  "
   ]
  },
  {
   "cell_type": "markdown",
   "metadata": {},
   "source": [
    "[Click here to return to the top of this page](#top_page)"
   ]
  }
 ],
 "metadata": {
  "colab": {
   "name": "Firearms Mortality.ipynb",
   "provenance": []
  },
  "kernelspec": {
   "display_name": "Python 3",
   "language": "python",
   "name": "python3"
  },
  "language_info": {
   "codemirror_mode": {
    "name": "ipython",
    "version": 3
   },
   "file_extension": ".py",
   "mimetype": "text/x-python",
   "name": "python",
   "nbconvert_exporter": "python",
   "pygments_lexer": "ipython3",
   "version": "3.7.4"
  }
 },
 "nbformat": 4,
 "nbformat_minor": 1
}
