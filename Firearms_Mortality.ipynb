{
  "nbformat": 4,
  "nbformat_minor": 0,
  "metadata": {
    "colab": {
      "name": "Firearms Mortality.ipynb",
      "provenance": []
    },
    "kernelspec": {
      "name": "python3",
      "display_name": "Python 3"
    }
  },
  "cells": [
    {
      "cell_type": "markdown",
      "metadata": {
        "id": "MjUMh_j2lmb4",
        "colab_type": "text"
      },
      "source": [
        "> This project seek to find Sates with most Firearms Mortality in the United States given the avialbe dataset.The data contains deaths recorded in **2005, 2014, 2015, 2016, 2017 & 2018**. The RATE is the number of deaths per 100,000 total population.\n",
        "  <a id=\"top_page\"><a/> "
      ]
    },
    {
      "cell_type": "markdown",
      "metadata": {
        "id": "8uFBK9S8lYT1",
        "colab_type": "text"
      },
      "source": [
        "## Data Source:https://www.cdc.gov/nchs/pressroom/sosmap/firearm_mortality/firearm.htm"
      ]
    },
    {
      "cell_type": "code",
      "metadata": {
        "id": "FCnrGbyiN_49",
        "colab_type": "code",
        "colab": {}
      },
      "source": [
        "# Importing Libraries.\n",
        "import math\n",
        "import pandas as pd\n",
        "import numpy as np\n",
        "import matplotlib.pyplot as plt"
      ],
      "execution_count": 0,
      "outputs": []
    },
    {
      "cell_type": "code",
      "metadata": {
        "id": "lGWJS6RjNkWY",
        "colab_type": "code",
        "colab": {
          "base_uri": "https://localhost:8080/",
          "height": 415
        },
        "outputId": "611c4194-a48b-443b-bd02-033daf14c098"
      },
      "source": [
        "# Loading our data.\n",
        "Df=pd.read_csv(\"Firearm Mortality by State.csv\")\n",
        "Df"
      ],
      "execution_count": 103,
      "outputs": [
        {
          "output_type": "execute_result",
          "data": {
            "text/html": [
              "<div>\n",
              "<style scoped>\n",
              "    .dataframe tbody tr th:only-of-type {\n",
              "        vertical-align: middle;\n",
              "    }\n",
              "\n",
              "    .dataframe tbody tr th {\n",
              "        vertical-align: top;\n",
              "    }\n",
              "\n",
              "    .dataframe thead th {\n",
              "        text-align: right;\n",
              "    }\n",
              "</style>\n",
              "<table border=\"1\" class=\"dataframe\">\n",
              "  <thead>\n",
              "    <tr style=\"text-align: right;\">\n",
              "      <th></th>\n",
              "      <th>YEAR</th>\n",
              "      <th>STATE</th>\n",
              "      <th>RATE</th>\n",
              "      <th>DEATHS</th>\n",
              "      <th>URL</th>\n",
              "    </tr>\n",
              "  </thead>\n",
              "  <tbody>\n",
              "    <tr>\n",
              "      <th>0</th>\n",
              "      <td>2018.0</td>\n",
              "      <td>AL</td>\n",
              "      <td>21.8</td>\n",
              "      <td>1064.0</td>\n",
              "      <td>/nchs/pressroom/states/alabama/alabama.htm</td>\n",
              "    </tr>\n",
              "    <tr>\n",
              "      <th>1</th>\n",
              "      <td>2018.0</td>\n",
              "      <td>AK</td>\n",
              "      <td>21.0</td>\n",
              "      <td>155.0</td>\n",
              "      <td>/nchs/pressroom/states/alaska/alaska.htm</td>\n",
              "    </tr>\n",
              "    <tr>\n",
              "      <th>2</th>\n",
              "      <td>2018.0</td>\n",
              "      <td>AZ</td>\n",
              "      <td>15.3</td>\n",
              "      <td>1147.0</td>\n",
              "      <td>/nchs/pressroom/states/arizona/arizona.htm</td>\n",
              "    </tr>\n",
              "    <tr>\n",
              "      <th>3</th>\n",
              "      <td>2018.0</td>\n",
              "      <td>AR</td>\n",
              "      <td>18.9</td>\n",
              "      <td>573.0</td>\n",
              "      <td>/nchs/pressroom/states/arkansas/arkansas.htm</td>\n",
              "    </tr>\n",
              "    <tr>\n",
              "      <th>4</th>\n",
              "      <td>2018.0</td>\n",
              "      <td>CA</td>\n",
              "      <td>7.5</td>\n",
              "      <td>3040.0</td>\n",
              "      <td>/nchs/pressroom/states/california/california.htm</td>\n",
              "    </tr>\n",
              "    <tr>\n",
              "      <th>...</th>\n",
              "      <td>...</td>\n",
              "      <td>...</td>\n",
              "      <td>...</td>\n",
              "      <td>...</td>\n",
              "      <td>...</td>\n",
              "    </tr>\n",
              "    <tr>\n",
              "      <th>296</th>\n",
              "      <td>2005.0</td>\n",
              "      <td>WA</td>\n",
              "      <td>8.8</td>\n",
              "      <td>567.0</td>\n",
              "      <td>/nchs/pressroom/states/washington/washington.htm</td>\n",
              "    </tr>\n",
              "    <tr>\n",
              "      <th>297</th>\n",
              "      <td>2005.0</td>\n",
              "      <td>WV</td>\n",
              "      <td>13.8</td>\n",
              "      <td>261.0</td>\n",
              "      <td>/nchs/pressroom/states/westvirginia/westvirgin...</td>\n",
              "    </tr>\n",
              "    <tr>\n",
              "      <th>298</th>\n",
              "      <td>2005.0</td>\n",
              "      <td>WI</td>\n",
              "      <td>8.5</td>\n",
              "      <td>474.0</td>\n",
              "      <td>/nchs/pressroom/states/wisconsin/wisconsin.htm</td>\n",
              "    </tr>\n",
              "    <tr>\n",
              "      <th>299</th>\n",
              "      <td>2005.0</td>\n",
              "      <td>WY</td>\n",
              "      <td>13.4</td>\n",
              "      <td>71.0</td>\n",
              "      <td>/nchs/pressroom/states/wyoming/wyoming.htm</td>\n",
              "    </tr>\n",
              "    <tr>\n",
              "      <th>300</th>\n",
              "      <td>NaN</td>\n",
              "      <td>NaN</td>\n",
              "      <td>NaN</td>\n",
              "      <td>NaN</td>\n",
              "      <td>NaN</td>\n",
              "    </tr>\n",
              "  </tbody>\n",
              "</table>\n",
              "<p>301 rows × 5 columns</p>\n",
              "</div>"
            ],
            "text/plain": [
              "       YEAR STATE  ...  DEATHS                                                URL\n",
              "0    2018.0    AL  ...  1064.0         /nchs/pressroom/states/alabama/alabama.htm\n",
              "1    2018.0    AK  ...   155.0           /nchs/pressroom/states/alaska/alaska.htm\n",
              "2    2018.0    AZ  ...  1147.0         /nchs/pressroom/states/arizona/arizona.htm\n",
              "3    2018.0    AR  ...   573.0       /nchs/pressroom/states/arkansas/arkansas.htm\n",
              "4    2018.0    CA  ...  3040.0   /nchs/pressroom/states/california/california.htm\n",
              "..      ...   ...  ...     ...                                                ...\n",
              "296  2005.0    WA  ...   567.0   /nchs/pressroom/states/washington/washington.htm\n",
              "297  2005.0    WV  ...   261.0  /nchs/pressroom/states/westvirginia/westvirgin...\n",
              "298  2005.0    WI  ...   474.0     /nchs/pressroom/states/wisconsin/wisconsin.htm\n",
              "299  2005.0    WY  ...    71.0         /nchs/pressroom/states/wyoming/wyoming.htm\n",
              "300     NaN   NaN  ...     NaN                                                NaN\n",
              "\n",
              "[301 rows x 5 columns]"
            ]
          },
          "metadata": {
            "tags": []
          },
          "execution_count": 103
        }
      ]
    },
    {
      "cell_type": "code",
      "metadata": {
        "id": "Kyc9Q6lnPD3i",
        "colab_type": "code",
        "colab": {
          "base_uri": "https://localhost:8080/",
          "height": 35
        },
        "outputId": "94c3de09-480f-4c9b-85d4-e61826702908"
      },
      "source": [
        "# Investigating the columns in our dataset\n",
        "Df.columns"
      ],
      "execution_count": 104,
      "outputs": [
        {
          "output_type": "execute_result",
          "data": {
            "text/plain": [
              "Index(['YEAR', 'STATE', 'RATE', 'DEATHS', 'URL'], dtype='object')"
            ]
          },
          "metadata": {
            "tags": []
          },
          "execution_count": 104
        }
      ]
    },
    {
      "cell_type": "code",
      "metadata": {
        "id": "FvZjUW8aPH3O",
        "colab_type": "code",
        "colab": {}
      },
      "source": [
        "# Fitering nonuseful columns\n",
        "Df=Df.drop(columns=[\"URL\"])"
      ],
      "execution_count": 0,
      "outputs": []
    },
    {
      "cell_type": "code",
      "metadata": {
        "id": "la_BiO-wP4vO",
        "colab_type": "code",
        "colab": {
          "base_uri": "https://localhost:8080/",
          "height": 104
        },
        "outputId": "e15f62f1-02d4-40ee-acac-d6221acff4ad"
      },
      "source": [
        "Df.dtypes"
      ],
      "execution_count": 106,
      "outputs": [
        {
          "output_type": "execute_result",
          "data": {
            "text/plain": [
              "YEAR      float64\n",
              "STATE      object\n",
              "RATE      float64\n",
              "DEATHS    float64\n",
              "dtype: object"
            ]
          },
          "metadata": {
            "tags": []
          },
          "execution_count": 106
        }
      ]
    },
    {
      "cell_type": "code",
      "metadata": {
        "id": "L4FHWeYCQGzH",
        "colab_type": "code",
        "colab": {}
      },
      "source": [
        "Df[\"YEAR\"]=Df[\"YEAR\"].astype(\"str\")\n",
        "Df.describe (include=\"all\")"
      ],
      "execution_count": 0,
      "outputs": []
    },
    {
      "cell_type": "code",
      "metadata": {
        "id": "kx3ptuBBRPXb",
        "colab_type": "code",
        "colab": {}
      },
      "source": [
        "# Selecting 50 random sample from our population data\n",
        "Df.sample(50)"
      ],
      "execution_count": 0,
      "outputs": []
    },
    {
      "cell_type": "code",
      "metadata": {
        "id": "uF5S22ygRgb8",
        "colab_type": "code",
        "colab": {
          "base_uri": "https://localhost:8080/",
          "height": 35
        },
        "outputId": "5c2ab589-470d-4740-f9c1-42e8295a7446"
      },
      "source": [
        "# Calculate sample mean for 50 random DEATHS\n",
        "sample_size=50\n",
        "Df_sample=Df.sample(sample_size)\n",
        "sample_mean=Df_sample[\"DEATHS\"].mean()\n",
        "sample_mean"
      ],
      "execution_count": 108,
      "outputs": [
        {
          "output_type": "execute_result",
          "data": {
            "text/plain": [
              "803.86"
            ]
          },
          "metadata": {
            "tags": []
          },
          "execution_count": 108
        }
      ]
    },
    {
      "cell_type": "code",
      "metadata": {
        "id": "Hat5atTRUJPy",
        "colab_type": "code",
        "colab": {
          "base_uri": "https://localhost:8080/",
          "height": 35
        },
        "outputId": "e1cdc84a-6fa1-4b84-d2e2-2e44a02ab19e"
      },
      "source": [
        "# calculating sample standard deviation\n",
        "sample_std= Df_sample[\"DEATHS\"].std()\n",
        "sample_std"
      ],
      "execution_count": 109,
      "outputs": [
        {
          "output_type": "execute_result",
          "data": {
            "text/plain": [
              "842.904212002909"
            ]
          },
          "metadata": {
            "tags": []
          },
          "execution_count": 109
        }
      ]
    },
    {
      "cell_type": "code",
      "metadata": {
        "id": "GAKEJjGYUmOa",
        "colab_type": "code",
        "colab": {
          "base_uri": "https://localhost:8080/",
          "height": 35
        },
        "outputId": "47c74364-9b74-4d1f-cbd1-87a1566da40f"
      },
      "source": [
        "# calculate the sample standard deviation using for loop.\n",
        "\n",
        "deaths_list = list(Df_sample[\"DEATHS\"])\n",
        "degree_of_freedom = sample_size - 1 # N=(n-1) for sample data\n",
        "variance = 0\n",
        "for deaths in deaths_list:\n",
        "    variance += (deaths - sample_mean)**2\n",
        "sample_std = math.sqrt(variance/degree_of_freedom) # df=1\n",
        "round(sample_std, 2)"
      ],
      "execution_count": 110,
      "outputs": [
        {
          "output_type": "execute_result",
          "data": {
            "text/plain": [
              "842.9"
            ]
          },
          "metadata": {
            "tags": []
          },
          "execution_count": 110
        }
      ]
    },
    {
      "cell_type": "markdown",
      "metadata": {
        "id": "paw-DL0_W8Ee",
        "colab_type": "text"
      },
      "source": [
        "### *Confidence Intervals*\n",
        "#### We will use the following chracteristics of a normal distribution:\n",
        "\n",
        "#### 68% of values are within 1 standard deviation of the mean, 𝜇±𝜎\n",
        "#### 95% of values are within 2 standard deviations of the mean, 𝜇±2𝜎\n",
        "#### 99.7% of values are within 3 standard deviations of the mean, 𝜇±3𝜎 "
      ]
    },
    {
      "cell_type": "code",
      "metadata": {
        "id": "c-A2RJ5mW7rn",
        "colab_type": "code",
        "colab": {
          "base_uri": "https://localhost:8080/",
          "height": 35
        },
        "outputId": "f6a414eb-80d8-41b9-c5fc-64cf0b295a30"
      },
      "source": [
        "# Calcualting standard deviation error.\n",
        "std_err= sample_std/math.sqrt(sample_size) # sample_size(n=50)\n",
        "std_err"
      ],
      "execution_count": 111,
      "outputs": [
        {
          "output_type": "execute_result",
          "data": {
            "text/plain": [
              "119.20465683959205"
            ]
          },
          "metadata": {
            "tags": []
          },
          "execution_count": 111
        }
      ]
    },
    {
      "cell_type": "code",
      "metadata": {
        "id": "NKfgPlRLZHyw",
        "colab_type": "code",
        "colab": {
          "base_uri": "https://localhost:8080/",
          "height": 52
        },
        "outputId": "48b88fef-2a5c-4e72-83dd-540d9cc7d618"
      },
      "source": [
        "# Calculate 68% Confidence Interval (CI) - one standard error from the population mean\n",
        "# 68% chances the population mean is within the sample_mean (+ or -) the standard error (SE)\n",
        "\n",
        "LCL_68 = sample_mean -  std_err\n",
        "UCL_68 = sample_mean +  std_err\n",
        "\n",
        "print(\"Lower confidence limit at 68% confidence level = \", round(LCL_68,2))\n",
        "print(\"Upper confidence limit at 68% confidence level = \", round(UCL_68,2))"
      ],
      "execution_count": 112,
      "outputs": [
        {
          "output_type": "stream",
          "text": [
            "Lower confidence limit at 68% confidence level =  684.66\n",
            "Upper confidence limit at 68% confidence level =  923.06\n"
          ],
          "name": "stdout"
        }
      ]
    },
    {
      "cell_type": "code",
      "metadata": {
        "id": "pPwn7zhqZxA4",
        "colab_type": "code",
        "colab": {
          "base_uri": "https://localhost:8080/",
          "height": 52
        },
        "outputId": "997200eb-86f8-4b28-80c5-0749ef51c4ca"
      },
      "source": [
        "# Calculating 95% confidence Interval (CI) - one standard error from population mean\n",
        "# 95% chances the population mean is within the sample_mean + or - 2* the standard error (SE)\n",
        "\n",
        "LCL_95= sample_mean - 2*std_err\n",
        "UCL_95 = sample_mean + 2*std_err\n",
        "\n",
        "print(\"Lower confidence limit at 95% confidence level = \", round(LCL_95,2))\n",
        "print(\"Upper confidence limit at 95% confidence level = \", round(UCL_95,2))"
      ],
      "execution_count": 113,
      "outputs": [
        {
          "output_type": "stream",
          "text": [
            "Lower confidence limit at 95% confidence level =  565.45\n",
            "Upper confidence limit at 95% confidence level =  1042.27\n"
          ],
          "name": "stdout"
        }
      ]
    },
    {
      "cell_type": "code",
      "metadata": {
        "id": "pz3RcTW8bGPm",
        "colab_type": "code",
        "colab": {
          "base_uri": "https://localhost:8080/",
          "height": 52
        },
        "outputId": "8d8002ef-8818-4369-d943-2ad2db235f48"
      },
      "source": [
        "# Calculate 99.7% Confidence Interval (CI) - one standard error from the population mean\n",
        "# 99.7% chances the population mean is within the sample_mean + or - 3 * the standard error (SE)\n",
        "\n",
        "LCL_997 = sample_mean -  3 * std_err\n",
        "UCL_997 = sample_mean +  3 * std_err\n",
        "print(\"Lower confidence limit at 99.7% confidence level = \", round(LCL_997,2))\n",
        "print(\"Upper confidence limit at 99.7% confidence level = \", round(UCL_997,2))"
      ],
      "execution_count": 114,
      "outputs": [
        {
          "output_type": "stream",
          "text": [
            "Lower confidence limit at 99.7% confidence level =  446.25\n",
            "Upper confidence limit at 99.7% confidence level =  1161.47\n"
          ],
          "name": "stdout"
        }
      ]
    },
    {
      "cell_type": "code",
      "metadata": {
        "id": "PsEapTfNbjof",
        "colab_type": "code",
        "colab": {
          "base_uri": "https://localhost:8080/",
          "height": 35
        },
        "outputId": "1136d93e-10dd-4a04-be71-6d15a4fb5f05"
      },
      "source": [
        "# Calcutaing the population mean\n",
        "Df[\"DEATHS\"].mean()"
      ],
      "execution_count": 115,
      "outputs": [
        {
          "output_type": "execute_result",
          "data": {
            "text/plain": [
              "726.73"
            ]
          },
          "metadata": {
            "tags": []
          },
          "execution_count": 115
        }
      ]
    },
    {
      "cell_type": "code",
      "metadata": {
        "id": "gE_pqJVwcSaU",
        "colab_type": "code",
        "colab": {
          "base_uri": "https://localhost:8080/",
          "height": 415
        },
        "outputId": "4b9cc329-42f1-48a5-d581-598c07c11426"
      },
      "source": [
        "# States with highest number of deaths.\n",
        "Df.sort_values(\"DEATHS\", ascending=False)"
      ],
      "execution_count": 116,
      "outputs": [
        {
          "output_type": "execute_result",
          "data": {
            "text/html": [
              "<div>\n",
              "<style scoped>\n",
              "    .dataframe tbody tr th:only-of-type {\n",
              "        vertical-align: middle;\n",
              "    }\n",
              "\n",
              "    .dataframe tbody tr th {\n",
              "        vertical-align: top;\n",
              "    }\n",
              "\n",
              "    .dataframe thead th {\n",
              "        text-align: right;\n",
              "    }\n",
              "</style>\n",
              "<table border=\"1\" class=\"dataframe\">\n",
              "  <thead>\n",
              "    <tr style=\"text-align: right;\">\n",
              "      <th></th>\n",
              "      <th>YEAR</th>\n",
              "      <th>STATE</th>\n",
              "      <th>RATE</th>\n",
              "      <th>DEATHS</th>\n",
              "    </tr>\n",
              "  </thead>\n",
              "  <tbody>\n",
              "    <tr>\n",
              "      <th>42</th>\n",
              "      <td>2018.0</td>\n",
              "      <td>TX</td>\n",
              "      <td>12.2</td>\n",
              "      <td>3522.0</td>\n",
              "    </tr>\n",
              "    <tr>\n",
              "      <th>92</th>\n",
              "      <td>2017.0</td>\n",
              "      <td>TX</td>\n",
              "      <td>12.4</td>\n",
              "      <td>3513.0</td>\n",
              "    </tr>\n",
              "    <tr>\n",
              "      <th>254</th>\n",
              "      <td>2005.0</td>\n",
              "      <td>CA</td>\n",
              "      <td>9.5</td>\n",
              "      <td>3453.0</td>\n",
              "    </tr>\n",
              "    <tr>\n",
              "      <th>142</th>\n",
              "      <td>2016.0</td>\n",
              "      <td>TX</td>\n",
              "      <td>12.1</td>\n",
              "      <td>3353.0</td>\n",
              "    </tr>\n",
              "    <tr>\n",
              "      <th>192</th>\n",
              "      <td>2015.0</td>\n",
              "      <td>TX</td>\n",
              "      <td>11.7</td>\n",
              "      <td>3203.0</td>\n",
              "    </tr>\n",
              "    <tr>\n",
              "      <th>...</th>\n",
              "      <td>...</td>\n",
              "      <td>...</td>\n",
              "      <td>...</td>\n",
              "      <td>...</td>\n",
              "    </tr>\n",
              "    <tr>\n",
              "      <th>288</th>\n",
              "      <td>2005.0</td>\n",
              "      <td>RI</td>\n",
              "      <td>3.6</td>\n",
              "      <td>39.0</td>\n",
              "    </tr>\n",
              "    <tr>\n",
              "      <th>38</th>\n",
              "      <td>2018.0</td>\n",
              "      <td>RI</td>\n",
              "      <td>3.3</td>\n",
              "      <td>37.0</td>\n",
              "    </tr>\n",
              "    <tr>\n",
              "      <th>238</th>\n",
              "      <td>2014.0</td>\n",
              "      <td>RI</td>\n",
              "      <td>3.0</td>\n",
              "      <td>34.0</td>\n",
              "    </tr>\n",
              "    <tr>\n",
              "      <th>260</th>\n",
              "      <td>2005.0</td>\n",
              "      <td>HI</td>\n",
              "      <td>2.1</td>\n",
              "      <td>28.0</td>\n",
              "    </tr>\n",
              "    <tr>\n",
              "      <th>300</th>\n",
              "      <td>nan</td>\n",
              "      <td>NaN</td>\n",
              "      <td>NaN</td>\n",
              "      <td>NaN</td>\n",
              "    </tr>\n",
              "  </tbody>\n",
              "</table>\n",
              "<p>301 rows × 4 columns</p>\n",
              "</div>"
            ],
            "text/plain": [
              "       YEAR STATE  RATE  DEATHS\n",
              "42   2018.0    TX  12.2  3522.0\n",
              "92   2017.0    TX  12.4  3513.0\n",
              "254  2005.0    CA   9.5  3453.0\n",
              "142  2016.0    TX  12.1  3353.0\n",
              "192  2015.0    TX  11.7  3203.0\n",
              "..      ...   ...   ...     ...\n",
              "288  2005.0    RI   3.6    39.0\n",
              "38   2018.0    RI   3.3    37.0\n",
              "238  2014.0    RI   3.0    34.0\n",
              "260  2005.0    HI   2.1    28.0\n",
              "300     nan   NaN   NaN     NaN\n",
              "\n",
              "[301 rows x 4 columns]"
            ]
          },
          "metadata": {
            "tags": []
          },
          "execution_count": 116
        }
      ]
    },
    {
      "cell_type": "code",
      "metadata": {
        "id": "imMiECrmeX5s",
        "colab_type": "code",
        "colab": {
          "base_uri": "https://localhost:8080/",
          "height": 263
        },
        "outputId": "8dfeb2ee-41b6-4bb7-d961-9c4af63117ea"
      },
      "source": [
        "# Investigating the total number of deaths & rates in the repective years.\n",
        "Df.groupby('YEAR', as_index = False).agg({'DEATHS':\"sum\", 'RATE':'sum'})"
      ],
      "execution_count": 117,
      "outputs": [
        {
          "output_type": "execute_result",
          "data": {
            "text/html": [
              "<div>\n",
              "<style scoped>\n",
              "    .dataframe tbody tr th:only-of-type {\n",
              "        vertical-align: middle;\n",
              "    }\n",
              "\n",
              "    .dataframe tbody tr th {\n",
              "        vertical-align: top;\n",
              "    }\n",
              "\n",
              "    .dataframe thead th {\n",
              "        text-align: right;\n",
              "    }\n",
              "</style>\n",
              "<table border=\"1\" class=\"dataframe\">\n",
              "  <thead>\n",
              "    <tr style=\"text-align: right;\">\n",
              "      <th></th>\n",
              "      <th>YEAR</th>\n",
              "      <th>DEATHS</th>\n",
              "      <th>RATE</th>\n",
              "    </tr>\n",
              "  </thead>\n",
              "  <tbody>\n",
              "    <tr>\n",
              "      <th>0</th>\n",
              "      <td>2005.0</td>\n",
              "      <td>30540.0</td>\n",
              "      <td>540.5</td>\n",
              "    </tr>\n",
              "    <tr>\n",
              "      <th>1</th>\n",
              "      <td>2014.0</td>\n",
              "      <td>33508.0</td>\n",
              "      <td>572.0</td>\n",
              "    </tr>\n",
              "    <tr>\n",
              "      <th>2</th>\n",
              "      <td>2015.0</td>\n",
              "      <td>36132.0</td>\n",
              "      <td>620.3</td>\n",
              "    </tr>\n",
              "    <tr>\n",
              "      <th>3</th>\n",
              "      <td>2016.0</td>\n",
              "      <td>38551.0</td>\n",
              "      <td>652.7</td>\n",
              "    </tr>\n",
              "    <tr>\n",
              "      <th>4</th>\n",
              "      <td>2017.0</td>\n",
              "      <td>39673.0</td>\n",
              "      <td>677.6</td>\n",
              "    </tr>\n",
              "    <tr>\n",
              "      <th>5</th>\n",
              "      <td>2018.0</td>\n",
              "      <td>39615.0</td>\n",
              "      <td>669.4</td>\n",
              "    </tr>\n",
              "    <tr>\n",
              "      <th>6</th>\n",
              "      <td>nan</td>\n",
              "      <td>0.0</td>\n",
              "      <td>0.0</td>\n",
              "    </tr>\n",
              "  </tbody>\n",
              "</table>\n",
              "</div>"
            ],
            "text/plain": [
              "     YEAR   DEATHS   RATE\n",
              "0  2005.0  30540.0  540.5\n",
              "1  2014.0  33508.0  572.0\n",
              "2  2015.0  36132.0  620.3\n",
              "3  2016.0  38551.0  652.7\n",
              "4  2017.0  39673.0  677.6\n",
              "5  2018.0  39615.0  669.4\n",
              "6     nan      0.0    0.0"
            ]
          },
          "metadata": {
            "tags": []
          },
          "execution_count": 117
        }
      ]
    },
    {
      "cell_type": "markdown",
      "metadata": {
        "id": "5h2WujKOnUve",
        "colab_type": "text"
      },
      "source": [
        "### Remarks:\n",
        "* From above we can see a constant incease in the number of deaths due to firearms from 2005 through 2018.\n",
        "* There is a slight drop from in deaths from 2017 to 2018 by  58 deaths. "
      ]
    },
    {
      "cell_type": "code",
      "metadata": {
        "id": "q-ng9sQmfi2g",
        "colab_type": "code",
        "colab": {
          "base_uri": "https://localhost:8080/",
          "height": 52
        },
        "outputId": "06f78c63-a58a-471a-d88b-1d34d5257087"
      },
      "source": [
        "# Investigating the years in our dataset.\n",
        "Df[\"YEAR\"].unique()"
      ],
      "execution_count": 118,
      "outputs": [
        {
          "output_type": "execute_result",
          "data": {
            "text/plain": [
              "array(['2018.0', '2017.0', '2016.0', '2015.0', '2014.0', '2005.0', 'nan'],\n",
              "      dtype=object)"
            ]
          },
          "metadata": {
            "tags": []
          },
          "execution_count": 118
        }
      ]
    },
    {
      "cell_type": "code",
      "metadata": {
        "id": "iXhrmHe7f5s5",
        "colab_type": "code",
        "colab": {
          "base_uri": "https://localhost:8080/",
          "height": 355
        },
        "outputId": "aa09c857-69ba-489e-943f-99d9d27d9afb"
      },
      "source": [
        "# Finding top 10 states with most number of deaths. \n",
        "D = Df.groupby('STATE',as_index=None).agg({\"DEATHS\":\"mean\",\"RATE\":\"mean\"})\n",
        "D.sort_values(\"DEATHS\", ascending= False,ignore_index=True).head(10)"
      ],
      "execution_count": 119,
      "outputs": [
        {
          "output_type": "execute_result",
          "data": {
            "text/html": [
              "<div>\n",
              "<style scoped>\n",
              "    .dataframe tbody tr th:only-of-type {\n",
              "        vertical-align: middle;\n",
              "    }\n",
              "\n",
              "    .dataframe tbody tr th {\n",
              "        vertical-align: top;\n",
              "    }\n",
              "\n",
              "    .dataframe thead th {\n",
              "        text-align: right;\n",
              "    }\n",
              "</style>\n",
              "<table border=\"1\" class=\"dataframe\">\n",
              "  <thead>\n",
              "    <tr style=\"text-align: right;\">\n",
              "      <th></th>\n",
              "      <th>STATE</th>\n",
              "      <th>DEATHS</th>\n",
              "      <th>RATE</th>\n",
              "    </tr>\n",
              "  </thead>\n",
              "  <tbody>\n",
              "    <tr>\n",
              "      <th>0</th>\n",
              "      <td>TX</td>\n",
              "      <td>3154.833333</td>\n",
              "      <td>11.700000</td>\n",
              "    </tr>\n",
              "    <tr>\n",
              "      <th>1</th>\n",
              "      <td>CA</td>\n",
              "      <td>3149.666667</td>\n",
              "      <td>7.983333</td>\n",
              "    </tr>\n",
              "    <tr>\n",
              "      <th>2</th>\n",
              "      <td>FL</td>\n",
              "      <td>2522.833333</td>\n",
              "      <td>11.900000</td>\n",
              "    </tr>\n",
              "    <tr>\n",
              "      <th>3</th>\n",
              "      <td>PA</td>\n",
              "      <td>1512.000000</td>\n",
              "      <td>11.616667</td>\n",
              "    </tr>\n",
              "    <tr>\n",
              "      <th>4</th>\n",
              "      <td>GA</td>\n",
              "      <td>1462.833333</td>\n",
              "      <td>14.333333</td>\n",
              "    </tr>\n",
              "    <tr>\n",
              "      <th>5</th>\n",
              "      <td>OH</td>\n",
              "      <td>1398.666667</td>\n",
              "      <td>11.916667</td>\n",
              "    </tr>\n",
              "    <tr>\n",
              "      <th>6</th>\n",
              "      <td>NC</td>\n",
              "      <td>1311.500000</td>\n",
              "      <td>12.966667</td>\n",
              "    </tr>\n",
              "    <tr>\n",
              "      <th>7</th>\n",
              "      <td>IL</td>\n",
              "      <td>1305.500000</td>\n",
              "      <td>10.200000</td>\n",
              "    </tr>\n",
              "    <tr>\n",
              "      <th>8</th>\n",
              "      <td>MI</td>\n",
              "      <td>1168.500000</td>\n",
              "      <td>11.683333</td>\n",
              "    </tr>\n",
              "    <tr>\n",
              "      <th>9</th>\n",
              "      <td>TN</td>\n",
              "      <td>1114.833333</td>\n",
              "      <td>16.733333</td>\n",
              "    </tr>\n",
              "  </tbody>\n",
              "</table>\n",
              "</div>"
            ],
            "text/plain": [
              "  STATE       DEATHS       RATE\n",
              "0    TX  3154.833333  11.700000\n",
              "1    CA  3149.666667   7.983333\n",
              "2    FL  2522.833333  11.900000\n",
              "3    PA  1512.000000  11.616667\n",
              "4    GA  1462.833333  14.333333\n",
              "5    OH  1398.666667  11.916667\n",
              "6    NC  1311.500000  12.966667\n",
              "7    IL  1305.500000  10.200000\n",
              "8    MI  1168.500000  11.683333\n",
              "9    TN  1114.833333  16.733333"
            ]
          },
          "metadata": {
            "tags": []
          },
          "execution_count": 119
        }
      ]
    },
    {
      "cell_type": "code",
      "metadata": {
        "id": "Ct14O7jBo0TK",
        "colab_type": "code",
        "colab": {
          "base_uri": "https://localhost:8080/",
          "height": 355
        },
        "outputId": "bb0f129d-434e-4d54-8061-87b36d28ee82"
      },
      "source": [
        " # Finding the 10 states that recorded highest death rates.\n",
        "D = Df.groupby('STATE',as_index=None).agg({\"RATE\":\"mean\"})\n",
        "D.sort_values(\"RATE\", ascending= False,ignore_index=True).head(10)"
      ],
      "execution_count": 120,
      "outputs": [
        {
          "output_type": "execute_result",
          "data": {
            "text/html": [
              "<div>\n",
              "<style scoped>\n",
              "    .dataframe tbody tr th:only-of-type {\n",
              "        vertical-align: middle;\n",
              "    }\n",
              "\n",
              "    .dataframe tbody tr th {\n",
              "        vertical-align: top;\n",
              "    }\n",
              "\n",
              "    .dataframe thead th {\n",
              "        text-align: right;\n",
              "    }\n",
              "</style>\n",
              "<table border=\"1\" class=\"dataframe\">\n",
              "  <thead>\n",
              "    <tr style=\"text-align: right;\">\n",
              "      <th></th>\n",
              "      <th>STATE</th>\n",
              "      <th>RATE</th>\n",
              "    </tr>\n",
              "  </thead>\n",
              "  <tbody>\n",
              "    <tr>\n",
              "      <th>0</th>\n",
              "      <td>AK</td>\n",
              "      <td>21.483333</td>\n",
              "    </tr>\n",
              "    <tr>\n",
              "      <th>1</th>\n",
              "      <td>LA</td>\n",
              "      <td>20.383333</td>\n",
              "    </tr>\n",
              "    <tr>\n",
              "      <th>2</th>\n",
              "      <td>AL</td>\n",
              "      <td>19.783333</td>\n",
              "    </tr>\n",
              "    <tr>\n",
              "      <th>3</th>\n",
              "      <td>MS</td>\n",
              "      <td>19.700000</td>\n",
              "    </tr>\n",
              "    <tr>\n",
              "      <th>4</th>\n",
              "      <td>MT</td>\n",
              "      <td>18.483333</td>\n",
              "    </tr>\n",
              "    <tr>\n",
              "      <th>5</th>\n",
              "      <td>MO</td>\n",
              "      <td>18.050000</td>\n",
              "    </tr>\n",
              "    <tr>\n",
              "      <th>6</th>\n",
              "      <td>WY</td>\n",
              "      <td>17.816667</td>\n",
              "    </tr>\n",
              "    <tr>\n",
              "      <th>7</th>\n",
              "      <td>AR</td>\n",
              "      <td>17.700000</td>\n",
              "    </tr>\n",
              "    <tr>\n",
              "      <th>8</th>\n",
              "      <td>NM</td>\n",
              "      <td>17.633333</td>\n",
              "    </tr>\n",
              "    <tr>\n",
              "      <th>9</th>\n",
              "      <td>OK</td>\n",
              "      <td>16.750000</td>\n",
              "    </tr>\n",
              "  </tbody>\n",
              "</table>\n",
              "</div>"
            ],
            "text/plain": [
              "  STATE       RATE\n",
              "0    AK  21.483333\n",
              "1    LA  20.383333\n",
              "2    AL  19.783333\n",
              "3    MS  19.700000\n",
              "4    MT  18.483333\n",
              "5    MO  18.050000\n",
              "6    WY  17.816667\n",
              "7    AR  17.700000\n",
              "8    NM  17.633333\n",
              "9    OK  16.750000"
            ]
          },
          "metadata": {
            "tags": []
          },
          "execution_count": 120
        }
      ]
    },
    {
      "cell_type": "markdown",
      "metadata": {
        "id": "lL2IvHLTpsqz",
        "colab_type": "text"
      },
      "source": [
        "### **Remarks**:\n",
        "* Although **TX, CA, PA, FL, GA** redocrded the most number of deaths in available data, these values simply do take into consideration the States population.\n",
        "* Taking into consideration States population, states that recorded most deaths from firearms are: **Ak, LA, AL, MS, MT..** in that oder. This description gives a better respresentation since it take into account the population of the diferent states. **(ratio of deaths per 100,000 population)**."
      ]
    },
    {
      "cell_type": "code",
      "metadata": {
        "id": "TgQOjCVUiK14",
        "colab_type": "code",
        "colab": {
          "base_uri": "https://localhost:8080/",
          "height": 355
        },
        "outputId": "0c633cf7-0ba8-4193-c86a-f7d6d07dfb71"
      },
      "source": [
        "# Finding 10 states which recorded least number of deaths.\n",
        "D.sort_values(\"RATE\", ascending= False,ignore_index=True).tail(10)"
      ],
      "execution_count": 121,
      "outputs": [
        {
          "output_type": "execute_result",
          "data": {
            "text/html": [
              "<div>\n",
              "<style scoped>\n",
              "    .dataframe tbody tr th:only-of-type {\n",
              "        vertical-align: middle;\n",
              "    }\n",
              "\n",
              "    .dataframe tbody tr th {\n",
              "        vertical-align: top;\n",
              "    }\n",
              "\n",
              "    .dataframe thead th {\n",
              "        text-align: right;\n",
              "    }\n",
              "</style>\n",
              "<table border=\"1\" class=\"dataframe\">\n",
              "  <thead>\n",
              "    <tr style=\"text-align: right;\">\n",
              "      <th></th>\n",
              "      <th>STATE</th>\n",
              "      <th>RATE</th>\n",
              "    </tr>\n",
              "  </thead>\n",
              "  <tbody>\n",
              "    <tr>\n",
              "      <th>40</th>\n",
              "      <td>NE</td>\n",
              "      <td>8.750000</td>\n",
              "    </tr>\n",
              "    <tr>\n",
              "      <th>41</th>\n",
              "      <td>IA</td>\n",
              "      <td>8.150000</td>\n",
              "    </tr>\n",
              "    <tr>\n",
              "      <th>42</th>\n",
              "      <td>CA</td>\n",
              "      <td>7.983333</td>\n",
              "    </tr>\n",
              "    <tr>\n",
              "      <th>43</th>\n",
              "      <td>MN</td>\n",
              "      <td>7.433333</td>\n",
              "    </tr>\n",
              "    <tr>\n",
              "      <th>44</th>\n",
              "      <td>NJ</td>\n",
              "      <td>5.250000</td>\n",
              "    </tr>\n",
              "    <tr>\n",
              "      <th>45</th>\n",
              "      <td>CT</td>\n",
              "      <td>5.033333</td>\n",
              "    </tr>\n",
              "    <tr>\n",
              "      <th>46</th>\n",
              "      <td>NY</td>\n",
              "      <td>4.316667</td>\n",
              "    </tr>\n",
              "    <tr>\n",
              "      <th>47</th>\n",
              "      <td>RI</td>\n",
              "      <td>3.766667</td>\n",
              "    </tr>\n",
              "    <tr>\n",
              "      <th>48</th>\n",
              "      <td>MA</td>\n",
              "      <td>3.366667</td>\n",
              "    </tr>\n",
              "    <tr>\n",
              "      <th>49</th>\n",
              "      <td>HI</td>\n",
              "      <td>3.216667</td>\n",
              "    </tr>\n",
              "  </tbody>\n",
              "</table>\n",
              "</div>"
            ],
            "text/plain": [
              "   STATE      RATE\n",
              "40    NE  8.750000\n",
              "41    IA  8.150000\n",
              "42    CA  7.983333\n",
              "43    MN  7.433333\n",
              "44    NJ  5.250000\n",
              "45    CT  5.033333\n",
              "46    NY  4.316667\n",
              "47    RI  3.766667\n",
              "48    MA  3.366667\n",
              "49    HI  3.216667"
            ]
          },
          "metadata": {
            "tags": []
          },
          "execution_count": 121
        }
      ]
    },
    {
      "cell_type": "markdown",
      "metadata": {
        "id": "i2cEAJD8vwY1",
        "colab_type": "text"
      },
      "source": [
        "### **Remark**:\n",
        "* States that recoded least number of deaths in ratio to their population are **: HI, MA, RI, NY, CT, NJ, ...** in icreasing order.  "
      ]
    }
  ]
}